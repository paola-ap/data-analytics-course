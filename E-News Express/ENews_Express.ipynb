{
  "nbformat": 4,
  "nbformat_minor": 5,
  "metadata": {
    "kernelspec": {
      "display_name": "Python 3",
      "language": "python",
      "name": "python3"
    },
    "language_info": {
      "codemirror_mode": {
        "name": "ipython",
        "version": 3
      },
      "file_extension": ".py",
      "mimetype": "text/x-python",
      "name": "python",
      "nbconvert_exporter": "python",
      "pygments_lexer": "ipython3",
      "version": "3.8.8"
    },
    "colab": {
      "provenance": [],
      "collapsed_sections": [
        "SrLd-ICEmPSD",
        "a6a3d218",
        "6970dd99",
        "Y-r9yD4lIu0n",
        "FuZPumu_eq6z"
      ]
    }
  },
  "cells": [
    {
      "cell_type": "markdown",
      "metadata": {
        "id": "6yDxo9u0d9Na"
      },
      "source": [
        "# E-news Express Project\n"
      ],
      "id": "6yDxo9u0d9Na"
    },
    {
      "cell_type": "markdown",
      "metadata": {
        "id": "SrLd-ICEmPSD"
      },
      "source": [
        "## Define Problem Statement and Objectives"
      ],
      "id": "SrLd-ICEmPSD"
    },
    {
      "cell_type": "markdown",
      "metadata": {
        "id": "9Vt1PLLqmXNn"
      },
      "source": [
        "### Context\n",
        "\n",
        "The advent of e-news, or electronic news, portals has offered us a great opportunity to quickly get updates on the day-to-day events occurring globally. The information on these portals is retrieved electronically from online databases, processed using a variety of software, and then transmitted to the users. There are multiple advantages of transmitting new electronically, like faster access to the content and the ability to utilize different technologies such as audio, graphics, video, and other interactive elements that are either not being used or aren’t common yet in traditional newspapers.\n",
        "\n",
        "E-news Express, an online news portal, aims to expand its business by acquiring new subscribers. With every visitor to the website taking certain actions based on their interest, the company plans to analyze these actions to understand user interests and determine how to drive better engagement. The executives at E-news Express are of the opinion that there has been a decline in new monthly subscribers compared to the past year because the current webpage is not designed well enough in terms of the outline & recommended content to keep customers engaged long enough to make a decision to subscribe.\n",
        "\n",
        "\n",
        "### Objective\n",
        "\n",
        "The design team of the company has researched and created a new landing page that has a new outline & more relevant content shown compared to the old page. In order to test the effectiveness of the new landing page in gathering new subscribers, the Data Science team conducted an experiment by randomly selecting 100 users and dividing them equally into two groups. The existing landing page was served to the first group (control group) and the new landing page to the second group (treatment group). Data regarding the interaction of users in both groups with the two versions of the landing page was collected. Being a data scientist in E-news Express, you have been asked to explore the data and perform a statistical analysis (at a significance level of 5%) to determine the effectiveness of the new landing page in gathering new subscribers for the news portal by answering the following questions:\n",
        "\n",
        "* Do the users spend more time on the new landing page than on the existing landing page?\n",
        "* Is the conversion rate (the proportion of users who visit the landing page and get converted) for the new page greater than the conversion rate for the old page?\n",
        "* Does the converted status depend on the preferred language?\n",
        "* Is the time spent on the new page the same for the different language users?\n",
        "\n",
        "\n",
        "### Data Description\n",
        "\n",
        "The data contains information regarding the interaction of users in both groups with the two versions of the landing page. The detailed data dictionary is given below.\n",
        "\n",
        "\n",
        "### Data Dictionary\n",
        "\n",
        "* `user_id`: Unique user ID of the person visiting the website\n",
        "* `group`: Whether the user belongs to the first group (control) or the second group (treatment)\n",
        "* `landing_page`: Whether the landing page is new or old\n",
        "* `time_spent_on_the_page`: Time (in minutes) spent by the user on the landing page\n",
        "* `converted`: Whether the user gets converted to a subscriber of the news portal or not\n",
        "* `language_preferred`: Language chosen by the user to view the landing page"
      ],
      "id": "9Vt1PLLqmXNn"
    },
    {
      "cell_type": "markdown",
      "metadata": {
        "id": "a6a3d218"
      },
      "source": [
        "## Import all the necessary libraries"
      ],
      "id": "a6a3d218"
    },
    {
      "cell_type": "code",
      "metadata": {
        "id": "658c5dec"
      },
      "source": [
        "# Import libraries to help with reading and manipulating data\n",
        "import pandas as pd\n",
        "import numpy as np\n",
        "\n",
        "# Import libraries to help with data visualization\n",
        "import matplotlib.pyplot as plt\n",
        "import seaborn as sns\n",
        "\n",
        "# Command to tell Python to display graphs\n",
        "%matplotlib inline\n",
        "\n",
        "# Import library to help with statistical analysis\n",
        "import scipy.stats as stats\n",
        "\n",
        "# Restrict the float value to 3 decimal places\n",
        "pd.set_option('display.float_format', lambda x: '%.3f' % x)"
      ],
      "id": "658c5dec",
      "execution_count": null,
      "outputs": []
    },
    {
      "cell_type": "code",
      "source": [
        "# Let colab access Google drive\n",
        "from google.colab import drive\n",
        "drive.mount('/content/drive')"
      ],
      "metadata": {
        "colab": {
          "base_uri": "https://localhost:8080/"
        },
        "id": "tP_gVxC0orCg",
        "outputId": "45c18edd-67f1-4cb4-f45c-b23a131ca683"
      },
      "id": "tP_gVxC0orCg",
      "execution_count": null,
      "outputs": [
        {
          "output_type": "stream",
          "name": "stdout",
          "text": [
            "Mounted at /content/drive\n"
          ]
        }
      ]
    },
    {
      "cell_type": "markdown",
      "metadata": {
        "id": "6970dd99"
      },
      "source": [
        "## Reading the Data into a DataFrame"
      ],
      "id": "6970dd99"
    },
    {
      "cell_type": "code",
      "metadata": {
        "id": "d3b95640"
      },
      "source": [
        "# Read data\n",
        "df = pd.read_csv('/content/drive/MyDrive/DSBA/Business-Statistics/Project/abtest.csv')\n",
        "\n",
        "# Make a copy of data to avoid overwriting original\n",
        "user_data = df.copy()"
      ],
      "id": "d3b95640",
      "execution_count": null,
      "outputs": []
    },
    {
      "cell_type": "markdown",
      "metadata": {
        "id": "9d75cfa2"
      },
      "source": [
        "## Explore the dataset and extract insights using Exploratory Data Analysis"
      ],
      "id": "9d75cfa2"
    },
    {
      "cell_type": "markdown",
      "source": [
        "**View the first and last 5 rows of the dataset**"
      ],
      "metadata": {
        "id": "Om0M9AwZv3OL"
      },
      "id": "Om0M9AwZv3OL"
    },
    {
      "cell_type": "code",
      "source": [
        "# Return the first 5 rows\n",
        "user_data.head()"
      ],
      "metadata": {
        "colab": {
          "base_uri": "https://localhost:8080/",
          "height": 206
        },
        "id": "O49ByCCSt2SY",
        "outputId": "bdfe5fcb-3015-4de2-b139-3b94d33b41d6"
      },
      "id": "O49ByCCSt2SY",
      "execution_count": null,
      "outputs": [
        {
          "output_type": "execute_result",
          "data": {
            "text/plain": [
              "   user_id      group landing_page  time_spent_on_the_page converted  \\\n",
              "0   546592    control          old                   3.480        no   \n",
              "1   546468  treatment          new                   7.130       yes   \n",
              "2   546462  treatment          new                   4.400        no   \n",
              "3   546567    control          old                   3.020        no   \n",
              "4   546459  treatment          new                   4.750       yes   \n",
              "\n",
              "  language_preferred  \n",
              "0            Spanish  \n",
              "1            English  \n",
              "2            Spanish  \n",
              "3             French  \n",
              "4            Spanish  "
            ],
            "text/html": [
              "\n",
              "  <div id=\"df-7092700e-c642-499d-8566-8607d25571b1\" class=\"colab-df-container\">\n",
              "    <div>\n",
              "<style scoped>\n",
              "    .dataframe tbody tr th:only-of-type {\n",
              "        vertical-align: middle;\n",
              "    }\n",
              "\n",
              "    .dataframe tbody tr th {\n",
              "        vertical-align: top;\n",
              "    }\n",
              "\n",
              "    .dataframe thead th {\n",
              "        text-align: right;\n",
              "    }\n",
              "</style>\n",
              "<table border=\"1\" class=\"dataframe\">\n",
              "  <thead>\n",
              "    <tr style=\"text-align: right;\">\n",
              "      <th></th>\n",
              "      <th>user_id</th>\n",
              "      <th>group</th>\n",
              "      <th>landing_page</th>\n",
              "      <th>time_spent_on_the_page</th>\n",
              "      <th>converted</th>\n",
              "      <th>language_preferred</th>\n",
              "    </tr>\n",
              "  </thead>\n",
              "  <tbody>\n",
              "    <tr>\n",
              "      <th>0</th>\n",
              "      <td>546592</td>\n",
              "      <td>control</td>\n",
              "      <td>old</td>\n",
              "      <td>3.480</td>\n",
              "      <td>no</td>\n",
              "      <td>Spanish</td>\n",
              "    </tr>\n",
              "    <tr>\n",
              "      <th>1</th>\n",
              "      <td>546468</td>\n",
              "      <td>treatment</td>\n",
              "      <td>new</td>\n",
              "      <td>7.130</td>\n",
              "      <td>yes</td>\n",
              "      <td>English</td>\n",
              "    </tr>\n",
              "    <tr>\n",
              "      <th>2</th>\n",
              "      <td>546462</td>\n",
              "      <td>treatment</td>\n",
              "      <td>new</td>\n",
              "      <td>4.400</td>\n",
              "      <td>no</td>\n",
              "      <td>Spanish</td>\n",
              "    </tr>\n",
              "    <tr>\n",
              "      <th>3</th>\n",
              "      <td>546567</td>\n",
              "      <td>control</td>\n",
              "      <td>old</td>\n",
              "      <td>3.020</td>\n",
              "      <td>no</td>\n",
              "      <td>French</td>\n",
              "    </tr>\n",
              "    <tr>\n",
              "      <th>4</th>\n",
              "      <td>546459</td>\n",
              "      <td>treatment</td>\n",
              "      <td>new</td>\n",
              "      <td>4.750</td>\n",
              "      <td>yes</td>\n",
              "      <td>Spanish</td>\n",
              "    </tr>\n",
              "  </tbody>\n",
              "</table>\n",
              "</div>\n",
              "    <div class=\"colab-df-buttons\">\n",
              "\n",
              "  <div class=\"colab-df-container\">\n",
              "    <button class=\"colab-df-convert\" onclick=\"convertToInteractive('df-7092700e-c642-499d-8566-8607d25571b1')\"\n",
              "            title=\"Convert this dataframe to an interactive table.\"\n",
              "            style=\"display:none;\">\n",
              "\n",
              "  <svg xmlns=\"http://www.w3.org/2000/svg\" height=\"24px\" viewBox=\"0 -960 960 960\">\n",
              "    <path d=\"M120-120v-720h720v720H120Zm60-500h600v-160H180v160Zm220 220h160v-160H400v160Zm0 220h160v-160H400v160ZM180-400h160v-160H180v160Zm440 0h160v-160H620v160ZM180-180h160v-160H180v160Zm440 0h160v-160H620v160Z\"/>\n",
              "  </svg>\n",
              "    </button>\n",
              "\n",
              "  <style>\n",
              "    .colab-df-container {\n",
              "      display:flex;\n",
              "      gap: 12px;\n",
              "    }\n",
              "\n",
              "    .colab-df-convert {\n",
              "      background-color: #E8F0FE;\n",
              "      border: none;\n",
              "      border-radius: 50%;\n",
              "      cursor: pointer;\n",
              "      display: none;\n",
              "      fill: #1967D2;\n",
              "      height: 32px;\n",
              "      padding: 0 0 0 0;\n",
              "      width: 32px;\n",
              "    }\n",
              "\n",
              "    .colab-df-convert:hover {\n",
              "      background-color: #E2EBFA;\n",
              "      box-shadow: 0px 1px 2px rgba(60, 64, 67, 0.3), 0px 1px 3px 1px rgba(60, 64, 67, 0.15);\n",
              "      fill: #174EA6;\n",
              "    }\n",
              "\n",
              "    .colab-df-buttons div {\n",
              "      margin-bottom: 4px;\n",
              "    }\n",
              "\n",
              "    [theme=dark] .colab-df-convert {\n",
              "      background-color: #3B4455;\n",
              "      fill: #D2E3FC;\n",
              "    }\n",
              "\n",
              "    [theme=dark] .colab-df-convert:hover {\n",
              "      background-color: #434B5C;\n",
              "      box-shadow: 0px 1px 3px 1px rgba(0, 0, 0, 0.15);\n",
              "      filter: drop-shadow(0px 1px 2px rgba(0, 0, 0, 0.3));\n",
              "      fill: #FFFFFF;\n",
              "    }\n",
              "  </style>\n",
              "\n",
              "    <script>\n",
              "      const buttonEl =\n",
              "        document.querySelector('#df-7092700e-c642-499d-8566-8607d25571b1 button.colab-df-convert');\n",
              "      buttonEl.style.display =\n",
              "        google.colab.kernel.accessAllowed ? 'block' : 'none';\n",
              "\n",
              "      async function convertToInteractive(key) {\n",
              "        const element = document.querySelector('#df-7092700e-c642-499d-8566-8607d25571b1');\n",
              "        const dataTable =\n",
              "          await google.colab.kernel.invokeFunction('convertToInteractive',\n",
              "                                                    [key], {});\n",
              "        if (!dataTable) return;\n",
              "\n",
              "        const docLinkHtml = 'Like what you see? Visit the ' +\n",
              "          '<a target=\"_blank\" href=https://colab.research.google.com/notebooks/data_table.ipynb>data table notebook</a>'\n",
              "          + ' to learn more about interactive tables.';\n",
              "        element.innerHTML = '';\n",
              "        dataTable['output_type'] = 'display_data';\n",
              "        await google.colab.output.renderOutput(dataTable, element);\n",
              "        const docLink = document.createElement('div');\n",
              "        docLink.innerHTML = docLinkHtml;\n",
              "        element.appendChild(docLink);\n",
              "      }\n",
              "    </script>\n",
              "  </div>\n",
              "\n",
              "\n",
              "<div id=\"df-6cd86e67-768f-460a-a453-5e43e69f2edd\">\n",
              "  <button class=\"colab-df-quickchart\" onclick=\"quickchart('df-6cd86e67-768f-460a-a453-5e43e69f2edd')\"\n",
              "            title=\"Suggest charts.\"\n",
              "            style=\"display:none;\">\n",
              "\n",
              "<svg xmlns=\"http://www.w3.org/2000/svg\" height=\"24px\"viewBox=\"0 0 24 24\"\n",
              "     width=\"24px\">\n",
              "    <g>\n",
              "        <path d=\"M19 3H5c-1.1 0-2 .9-2 2v14c0 1.1.9 2 2 2h14c1.1 0 2-.9 2-2V5c0-1.1-.9-2-2-2zM9 17H7v-7h2v7zm4 0h-2V7h2v10zm4 0h-2v-4h2v4z\"/>\n",
              "    </g>\n",
              "</svg>\n",
              "  </button>\n",
              "\n",
              "<style>\n",
              "  .colab-df-quickchart {\n",
              "      --bg-color: #E8F0FE;\n",
              "      --fill-color: #1967D2;\n",
              "      --hover-bg-color: #E2EBFA;\n",
              "      --hover-fill-color: #174EA6;\n",
              "      --disabled-fill-color: #AAA;\n",
              "      --disabled-bg-color: #DDD;\n",
              "  }\n",
              "\n",
              "  [theme=dark] .colab-df-quickchart {\n",
              "      --bg-color: #3B4455;\n",
              "      --fill-color: #D2E3FC;\n",
              "      --hover-bg-color: #434B5C;\n",
              "      --hover-fill-color: #FFFFFF;\n",
              "      --disabled-bg-color: #3B4455;\n",
              "      --disabled-fill-color: #666;\n",
              "  }\n",
              "\n",
              "  .colab-df-quickchart {\n",
              "    background-color: var(--bg-color);\n",
              "    border: none;\n",
              "    border-radius: 50%;\n",
              "    cursor: pointer;\n",
              "    display: none;\n",
              "    fill: var(--fill-color);\n",
              "    height: 32px;\n",
              "    padding: 0;\n",
              "    width: 32px;\n",
              "  }\n",
              "\n",
              "  .colab-df-quickchart:hover {\n",
              "    background-color: var(--hover-bg-color);\n",
              "    box-shadow: 0 1px 2px rgba(60, 64, 67, 0.3), 0 1px 3px 1px rgba(60, 64, 67, 0.15);\n",
              "    fill: var(--button-hover-fill-color);\n",
              "  }\n",
              "\n",
              "  .colab-df-quickchart-complete:disabled,\n",
              "  .colab-df-quickchart-complete:disabled:hover {\n",
              "    background-color: var(--disabled-bg-color);\n",
              "    fill: var(--disabled-fill-color);\n",
              "    box-shadow: none;\n",
              "  }\n",
              "\n",
              "  .colab-df-spinner {\n",
              "    border: 2px solid var(--fill-color);\n",
              "    border-color: transparent;\n",
              "    border-bottom-color: var(--fill-color);\n",
              "    animation:\n",
              "      spin 1s steps(1) infinite;\n",
              "  }\n",
              "\n",
              "  @keyframes spin {\n",
              "    0% {\n",
              "      border-color: transparent;\n",
              "      border-bottom-color: var(--fill-color);\n",
              "      border-left-color: var(--fill-color);\n",
              "    }\n",
              "    20% {\n",
              "      border-color: transparent;\n",
              "      border-left-color: var(--fill-color);\n",
              "      border-top-color: var(--fill-color);\n",
              "    }\n",
              "    30% {\n",
              "      border-color: transparent;\n",
              "      border-left-color: var(--fill-color);\n",
              "      border-top-color: var(--fill-color);\n",
              "      border-right-color: var(--fill-color);\n",
              "    }\n",
              "    40% {\n",
              "      border-color: transparent;\n",
              "      border-right-color: var(--fill-color);\n",
              "      border-top-color: var(--fill-color);\n",
              "    }\n",
              "    60% {\n",
              "      border-color: transparent;\n",
              "      border-right-color: var(--fill-color);\n",
              "    }\n",
              "    80% {\n",
              "      border-color: transparent;\n",
              "      border-right-color: var(--fill-color);\n",
              "      border-bottom-color: var(--fill-color);\n",
              "    }\n",
              "    90% {\n",
              "      border-color: transparent;\n",
              "      border-bottom-color: var(--fill-color);\n",
              "    }\n",
              "  }\n",
              "</style>\n",
              "\n",
              "  <script>\n",
              "    async function quickchart(key) {\n",
              "      const quickchartButtonEl =\n",
              "        document.querySelector('#' + key + ' button');\n",
              "      quickchartButtonEl.disabled = true;  // To prevent multiple clicks.\n",
              "      quickchartButtonEl.classList.add('colab-df-spinner');\n",
              "      try {\n",
              "        const charts = await google.colab.kernel.invokeFunction(\n",
              "            'suggestCharts', [key], {});\n",
              "      } catch (error) {\n",
              "        console.error('Error during call to suggestCharts:', error);\n",
              "      }\n",
              "      quickchartButtonEl.classList.remove('colab-df-spinner');\n",
              "      quickchartButtonEl.classList.add('colab-df-quickchart-complete');\n",
              "    }\n",
              "    (() => {\n",
              "      let quickchartButtonEl =\n",
              "        document.querySelector('#df-6cd86e67-768f-460a-a453-5e43e69f2edd button');\n",
              "      quickchartButtonEl.style.display =\n",
              "        google.colab.kernel.accessAllowed ? 'block' : 'none';\n",
              "    })();\n",
              "  </script>\n",
              "</div>\n",
              "    </div>\n",
              "  </div>\n"
            ]
          },
          "metadata": {},
          "execution_count": 4
        }
      ]
    },
    {
      "cell_type": "code",
      "source": [
        "# Return the last 5 rows\n",
        "user_data.tail()"
      ],
      "metadata": {
        "colab": {
          "base_uri": "https://localhost:8080/",
          "height": 206
        },
        "id": "MU_zrR7wtoz6",
        "outputId": "a62749ef-8cd9-437e-ef7b-462f327530dc"
      },
      "id": "MU_zrR7wtoz6",
      "execution_count": null,
      "outputs": [
        {
          "output_type": "execute_result",
          "data": {
            "text/plain": [
              "    user_id      group landing_page  time_spent_on_the_page converted  \\\n",
              "95   546446  treatment          new                   5.150        no   \n",
              "96   546544    control          old                   6.520       yes   \n",
              "97   546472  treatment          new                   7.070       yes   \n",
              "98   546481  treatment          new                   6.200       yes   \n",
              "99   546483  treatment          new                   5.860       yes   \n",
              "\n",
              "   language_preferred  \n",
              "95            Spanish  \n",
              "96            English  \n",
              "97            Spanish  \n",
              "98            Spanish  \n",
              "99            English  "
            ],
            "text/html": [
              "\n",
              "  <div id=\"df-5bdd8733-762e-4107-9377-7876c5caee75\" class=\"colab-df-container\">\n",
              "    <div>\n",
              "<style scoped>\n",
              "    .dataframe tbody tr th:only-of-type {\n",
              "        vertical-align: middle;\n",
              "    }\n",
              "\n",
              "    .dataframe tbody tr th {\n",
              "        vertical-align: top;\n",
              "    }\n",
              "\n",
              "    .dataframe thead th {\n",
              "        text-align: right;\n",
              "    }\n",
              "</style>\n",
              "<table border=\"1\" class=\"dataframe\">\n",
              "  <thead>\n",
              "    <tr style=\"text-align: right;\">\n",
              "      <th></th>\n",
              "      <th>user_id</th>\n",
              "      <th>group</th>\n",
              "      <th>landing_page</th>\n",
              "      <th>time_spent_on_the_page</th>\n",
              "      <th>converted</th>\n",
              "      <th>language_preferred</th>\n",
              "    </tr>\n",
              "  </thead>\n",
              "  <tbody>\n",
              "    <tr>\n",
              "      <th>95</th>\n",
              "      <td>546446</td>\n",
              "      <td>treatment</td>\n",
              "      <td>new</td>\n",
              "      <td>5.150</td>\n",
              "      <td>no</td>\n",
              "      <td>Spanish</td>\n",
              "    </tr>\n",
              "    <tr>\n",
              "      <th>96</th>\n",
              "      <td>546544</td>\n",
              "      <td>control</td>\n",
              "      <td>old</td>\n",
              "      <td>6.520</td>\n",
              "      <td>yes</td>\n",
              "      <td>English</td>\n",
              "    </tr>\n",
              "    <tr>\n",
              "      <th>97</th>\n",
              "      <td>546472</td>\n",
              "      <td>treatment</td>\n",
              "      <td>new</td>\n",
              "      <td>7.070</td>\n",
              "      <td>yes</td>\n",
              "      <td>Spanish</td>\n",
              "    </tr>\n",
              "    <tr>\n",
              "      <th>98</th>\n",
              "      <td>546481</td>\n",
              "      <td>treatment</td>\n",
              "      <td>new</td>\n",
              "      <td>6.200</td>\n",
              "      <td>yes</td>\n",
              "      <td>Spanish</td>\n",
              "    </tr>\n",
              "    <tr>\n",
              "      <th>99</th>\n",
              "      <td>546483</td>\n",
              "      <td>treatment</td>\n",
              "      <td>new</td>\n",
              "      <td>5.860</td>\n",
              "      <td>yes</td>\n",
              "      <td>English</td>\n",
              "    </tr>\n",
              "  </tbody>\n",
              "</table>\n",
              "</div>\n",
              "    <div class=\"colab-df-buttons\">\n",
              "\n",
              "  <div class=\"colab-df-container\">\n",
              "    <button class=\"colab-df-convert\" onclick=\"convertToInteractive('df-5bdd8733-762e-4107-9377-7876c5caee75')\"\n",
              "            title=\"Convert this dataframe to an interactive table.\"\n",
              "            style=\"display:none;\">\n",
              "\n",
              "  <svg xmlns=\"http://www.w3.org/2000/svg\" height=\"24px\" viewBox=\"0 -960 960 960\">\n",
              "    <path d=\"M120-120v-720h720v720H120Zm60-500h600v-160H180v160Zm220 220h160v-160H400v160Zm0 220h160v-160H400v160ZM180-400h160v-160H180v160Zm440 0h160v-160H620v160ZM180-180h160v-160H180v160Zm440 0h160v-160H620v160Z\"/>\n",
              "  </svg>\n",
              "    </button>\n",
              "\n",
              "  <style>\n",
              "    .colab-df-container {\n",
              "      display:flex;\n",
              "      gap: 12px;\n",
              "    }\n",
              "\n",
              "    .colab-df-convert {\n",
              "      background-color: #E8F0FE;\n",
              "      border: none;\n",
              "      border-radius: 50%;\n",
              "      cursor: pointer;\n",
              "      display: none;\n",
              "      fill: #1967D2;\n",
              "      height: 32px;\n",
              "      padding: 0 0 0 0;\n",
              "      width: 32px;\n",
              "    }\n",
              "\n",
              "    .colab-df-convert:hover {\n",
              "      background-color: #E2EBFA;\n",
              "      box-shadow: 0px 1px 2px rgba(60, 64, 67, 0.3), 0px 1px 3px 1px rgba(60, 64, 67, 0.15);\n",
              "      fill: #174EA6;\n",
              "    }\n",
              "\n",
              "    .colab-df-buttons div {\n",
              "      margin-bottom: 4px;\n",
              "    }\n",
              "\n",
              "    [theme=dark] .colab-df-convert {\n",
              "      background-color: #3B4455;\n",
              "      fill: #D2E3FC;\n",
              "    }\n",
              "\n",
              "    [theme=dark] .colab-df-convert:hover {\n",
              "      background-color: #434B5C;\n",
              "      box-shadow: 0px 1px 3px 1px rgba(0, 0, 0, 0.15);\n",
              "      filter: drop-shadow(0px 1px 2px rgba(0, 0, 0, 0.3));\n",
              "      fill: #FFFFFF;\n",
              "    }\n",
              "  </style>\n",
              "\n",
              "    <script>\n",
              "      const buttonEl =\n",
              "        document.querySelector('#df-5bdd8733-762e-4107-9377-7876c5caee75 button.colab-df-convert');\n",
              "      buttonEl.style.display =\n",
              "        google.colab.kernel.accessAllowed ? 'block' : 'none';\n",
              "\n",
              "      async function convertToInteractive(key) {\n",
              "        const element = document.querySelector('#df-5bdd8733-762e-4107-9377-7876c5caee75');\n",
              "        const dataTable =\n",
              "          await google.colab.kernel.invokeFunction('convertToInteractive',\n",
              "                                                    [key], {});\n",
              "        if (!dataTable) return;\n",
              "\n",
              "        const docLinkHtml = 'Like what you see? Visit the ' +\n",
              "          '<a target=\"_blank\" href=https://colab.research.google.com/notebooks/data_table.ipynb>data table notebook</a>'\n",
              "          + ' to learn more about interactive tables.';\n",
              "        element.innerHTML = '';\n",
              "        dataTable['output_type'] = 'display_data';\n",
              "        await google.colab.output.renderOutput(dataTable, element);\n",
              "        const docLink = document.createElement('div');\n",
              "        docLink.innerHTML = docLinkHtml;\n",
              "        element.appendChild(docLink);\n",
              "      }\n",
              "    </script>\n",
              "  </div>\n",
              "\n",
              "\n",
              "<div id=\"df-fc02e4e3-684b-46d6-819d-051a631cab55\">\n",
              "  <button class=\"colab-df-quickchart\" onclick=\"quickchart('df-fc02e4e3-684b-46d6-819d-051a631cab55')\"\n",
              "            title=\"Suggest charts.\"\n",
              "            style=\"display:none;\">\n",
              "\n",
              "<svg xmlns=\"http://www.w3.org/2000/svg\" height=\"24px\"viewBox=\"0 0 24 24\"\n",
              "     width=\"24px\">\n",
              "    <g>\n",
              "        <path d=\"M19 3H5c-1.1 0-2 .9-2 2v14c0 1.1.9 2 2 2h14c1.1 0 2-.9 2-2V5c0-1.1-.9-2-2-2zM9 17H7v-7h2v7zm4 0h-2V7h2v10zm4 0h-2v-4h2v4z\"/>\n",
              "    </g>\n",
              "</svg>\n",
              "  </button>\n",
              "\n",
              "<style>\n",
              "  .colab-df-quickchart {\n",
              "      --bg-color: #E8F0FE;\n",
              "      --fill-color: #1967D2;\n",
              "      --hover-bg-color: #E2EBFA;\n",
              "      --hover-fill-color: #174EA6;\n",
              "      --disabled-fill-color: #AAA;\n",
              "      --disabled-bg-color: #DDD;\n",
              "  }\n",
              "\n",
              "  [theme=dark] .colab-df-quickchart {\n",
              "      --bg-color: #3B4455;\n",
              "      --fill-color: #D2E3FC;\n",
              "      --hover-bg-color: #434B5C;\n",
              "      --hover-fill-color: #FFFFFF;\n",
              "      --disabled-bg-color: #3B4455;\n",
              "      --disabled-fill-color: #666;\n",
              "  }\n",
              "\n",
              "  .colab-df-quickchart {\n",
              "    background-color: var(--bg-color);\n",
              "    border: none;\n",
              "    border-radius: 50%;\n",
              "    cursor: pointer;\n",
              "    display: none;\n",
              "    fill: var(--fill-color);\n",
              "    height: 32px;\n",
              "    padding: 0;\n",
              "    width: 32px;\n",
              "  }\n",
              "\n",
              "  .colab-df-quickchart:hover {\n",
              "    background-color: var(--hover-bg-color);\n",
              "    box-shadow: 0 1px 2px rgba(60, 64, 67, 0.3), 0 1px 3px 1px rgba(60, 64, 67, 0.15);\n",
              "    fill: var(--button-hover-fill-color);\n",
              "  }\n",
              "\n",
              "  .colab-df-quickchart-complete:disabled,\n",
              "  .colab-df-quickchart-complete:disabled:hover {\n",
              "    background-color: var(--disabled-bg-color);\n",
              "    fill: var(--disabled-fill-color);\n",
              "    box-shadow: none;\n",
              "  }\n",
              "\n",
              "  .colab-df-spinner {\n",
              "    border: 2px solid var(--fill-color);\n",
              "    border-color: transparent;\n",
              "    border-bottom-color: var(--fill-color);\n",
              "    animation:\n",
              "      spin 1s steps(1) infinite;\n",
              "  }\n",
              "\n",
              "  @keyframes spin {\n",
              "    0% {\n",
              "      border-color: transparent;\n",
              "      border-bottom-color: var(--fill-color);\n",
              "      border-left-color: var(--fill-color);\n",
              "    }\n",
              "    20% {\n",
              "      border-color: transparent;\n",
              "      border-left-color: var(--fill-color);\n",
              "      border-top-color: var(--fill-color);\n",
              "    }\n",
              "    30% {\n",
              "      border-color: transparent;\n",
              "      border-left-color: var(--fill-color);\n",
              "      border-top-color: var(--fill-color);\n",
              "      border-right-color: var(--fill-color);\n",
              "    }\n",
              "    40% {\n",
              "      border-color: transparent;\n",
              "      border-right-color: var(--fill-color);\n",
              "      border-top-color: var(--fill-color);\n",
              "    }\n",
              "    60% {\n",
              "      border-color: transparent;\n",
              "      border-right-color: var(--fill-color);\n",
              "    }\n",
              "    80% {\n",
              "      border-color: transparent;\n",
              "      border-right-color: var(--fill-color);\n",
              "      border-bottom-color: var(--fill-color);\n",
              "    }\n",
              "    90% {\n",
              "      border-color: transparent;\n",
              "      border-bottom-color: var(--fill-color);\n",
              "    }\n",
              "  }\n",
              "</style>\n",
              "\n",
              "  <script>\n",
              "    async function quickchart(key) {\n",
              "      const quickchartButtonEl =\n",
              "        document.querySelector('#' + key + ' button');\n",
              "      quickchartButtonEl.disabled = true;  // To prevent multiple clicks.\n",
              "      quickchartButtonEl.classList.add('colab-df-spinner');\n",
              "      try {\n",
              "        const charts = await google.colab.kernel.invokeFunction(\n",
              "            'suggestCharts', [key], {});\n",
              "      } catch (error) {\n",
              "        console.error('Error during call to suggestCharts:', error);\n",
              "      }\n",
              "      quickchartButtonEl.classList.remove('colab-df-spinner');\n",
              "      quickchartButtonEl.classList.add('colab-df-quickchart-complete');\n",
              "    }\n",
              "    (() => {\n",
              "      let quickchartButtonEl =\n",
              "        document.querySelector('#df-fc02e4e3-684b-46d6-819d-051a631cab55 button');\n",
              "      quickchartButtonEl.style.display =\n",
              "        google.colab.kernel.accessAllowed ? 'block' : 'none';\n",
              "    })();\n",
              "  </script>\n",
              "</div>\n",
              "    </div>\n",
              "  </div>\n"
            ]
          },
          "metadata": {},
          "execution_count": 5
        }
      ]
    },
    {
      "cell_type": "markdown",
      "source": [
        "**Understand the shape of the dataset and data types contained**"
      ],
      "metadata": {
        "id": "1kydIhTQv720"
      },
      "id": "1kydIhTQv720"
    },
    {
      "cell_type": "code",
      "source": [
        "# Use info() to print a concise summary of the DataFrame\n",
        "user_data.info()"
      ],
      "metadata": {
        "colab": {
          "base_uri": "https://localhost:8080/"
        },
        "id": "cNLsvrR9sWY9",
        "outputId": "07b74045-abb9-4f44-ab0b-bfbbcc5c4200"
      },
      "id": "cNLsvrR9sWY9",
      "execution_count": null,
      "outputs": [
        {
          "output_type": "stream",
          "name": "stdout",
          "text": [
            "<class 'pandas.core.frame.DataFrame'>\n",
            "RangeIndex: 100 entries, 0 to 99\n",
            "Data columns (total 6 columns):\n",
            " #   Column                  Non-Null Count  Dtype  \n",
            "---  ------                  --------------  -----  \n",
            " 0   user_id                 100 non-null    int64  \n",
            " 1   group                   100 non-null    object \n",
            " 2   landing_page            100 non-null    object \n",
            " 3   time_spent_on_the_page  100 non-null    float64\n",
            " 4   converted               100 non-null    object \n",
            " 5   language_preferred      100 non-null    object \n",
            "dtypes: float64(1), int64(1), object(4)\n",
            "memory usage: 4.8+ KB\n"
          ]
        }
      ]
    },
    {
      "cell_type": "markdown",
      "source": [
        "Observations:\n",
        "* The dataset has 100 rows and 6 columns\n",
        "* There is 1 64-bit integer column, 1 64-bit float column, and 4 object type columns\n",
        "* customer_id is read as numerical columns, but should be an object type columns\n",
        "* The group, landing_page, and converted columns are binary variables"
      ],
      "metadata": {
        "id": "-d3WhrFKshAy"
      },
      "id": "-d3WhrFKshAy"
    },
    {
      "cell_type": "code",
      "source": [
        "# Change the data type of user ID to strings\n",
        "user_data['user_id'] = user_data['user_id'].astype(str)"
      ],
      "metadata": {
        "id": "PstSP9B8w_FL"
      },
      "id": "PstSP9B8w_FL",
      "execution_count": null,
      "outputs": []
    },
    {
      "cell_type": "markdown",
      "source": [
        "**Check for missing values and duplicate entries in the data**"
      ],
      "metadata": {
        "id": "P0KdGkC-wq_w"
      },
      "id": "P0KdGkC-wq_w"
    },
    {
      "cell_type": "code",
      "source": [
        "# Return sum of null values in each column by default\n",
        "user_data.isnull().sum()"
      ],
      "metadata": {
        "colab": {
          "base_uri": "https://localhost:8080/"
        },
        "id": "BPW9d8p9uM38",
        "outputId": "204b9054-8d42-431e-9fc8-f3a73d7ab89e"
      },
      "id": "BPW9d8p9uM38",
      "execution_count": null,
      "outputs": [
        {
          "output_type": "execute_result",
          "data": {
            "text/plain": [
              "user_id                   0\n",
              "group                     0\n",
              "landing_page              0\n",
              "time_spent_on_the_page    0\n",
              "converted                 0\n",
              "language_preferred        0\n",
              "dtype: int64"
            ]
          },
          "metadata": {},
          "execution_count": 8
        }
      ]
    },
    {
      "cell_type": "code",
      "source": [
        "user_data.duplicated().sum()"
      ],
      "metadata": {
        "colab": {
          "base_uri": "https://localhost:8080/"
        },
        "id": "03J2VC3exXuj",
        "outputId": "300d6bd7-75b1-4b82-e3e4-509307dd4804"
      },
      "id": "03J2VC3exXuj",
      "execution_count": null,
      "outputs": [
        {
          "output_type": "execute_result",
          "data": {
            "text/plain": [
              "0"
            ]
          },
          "metadata": {},
          "execution_count": 9
        }
      ]
    },
    {
      "cell_type": "markdown",
      "source": [
        "Observations:\n",
        "* There are no null values in the dataset\n",
        "* There are no duplicate entries in the data"
      ],
      "metadata": {
        "id": "Q2zAP5BwuTSv"
      },
      "id": "Q2zAP5BwuTSv"
    },
    {
      "cell_type": "markdown",
      "source": [
        "**View statistical summary of the data**"
      ],
      "metadata": {
        "id": "--3jFL2Jxqml"
      },
      "id": "--3jFL2Jxqml"
    },
    {
      "cell_type": "code",
      "source": [
        "# Use describe() to print a concise statistical summary of all the data\n",
        "user_data.describe(include='all').T"
      ],
      "metadata": {
        "colab": {
          "base_uri": "https://localhost:8080/",
          "height": 238
        },
        "id": "9c88fFrQxxZg",
        "outputId": "7860ea80-5d1e-4239-c854-739c5d528d08"
      },
      "id": "9c88fFrQxxZg",
      "execution_count": null,
      "outputs": [
        {
          "output_type": "execute_result",
          "data": {
            "text/plain": [
              "                         count unique      top freq  mean   std   min   25%  \\\n",
              "user_id                    100    100   546592    1   NaN   NaN   NaN   NaN   \n",
              "group                      100      2  control   50   NaN   NaN   NaN   NaN   \n",
              "landing_page               100      2      old   50   NaN   NaN   NaN   NaN   \n",
              "time_spent_on_the_page 100.000    NaN      NaN  NaN 5.378 2.378 0.190 3.880   \n",
              "converted                  100      2      yes   54   NaN   NaN   NaN   NaN   \n",
              "language_preferred         100      3  Spanish   34   NaN   NaN   NaN   NaN   \n",
              "\n",
              "                         50%   75%    max  \n",
              "user_id                  NaN   NaN    NaN  \n",
              "group                    NaN   NaN    NaN  \n",
              "landing_page             NaN   NaN    NaN  \n",
              "time_spent_on_the_page 5.415 7.022 10.710  \n",
              "converted                NaN   NaN    NaN  \n",
              "language_preferred       NaN   NaN    NaN  "
            ],
            "text/html": [
              "\n",
              "  <div id=\"df-a4a7f179-3a2a-4198-ba4a-868ab646ea46\" class=\"colab-df-container\">\n",
              "    <div>\n",
              "<style scoped>\n",
              "    .dataframe tbody tr th:only-of-type {\n",
              "        vertical-align: middle;\n",
              "    }\n",
              "\n",
              "    .dataframe tbody tr th {\n",
              "        vertical-align: top;\n",
              "    }\n",
              "\n",
              "    .dataframe thead th {\n",
              "        text-align: right;\n",
              "    }\n",
              "</style>\n",
              "<table border=\"1\" class=\"dataframe\">\n",
              "  <thead>\n",
              "    <tr style=\"text-align: right;\">\n",
              "      <th></th>\n",
              "      <th>count</th>\n",
              "      <th>unique</th>\n",
              "      <th>top</th>\n",
              "      <th>freq</th>\n",
              "      <th>mean</th>\n",
              "      <th>std</th>\n",
              "      <th>min</th>\n",
              "      <th>25%</th>\n",
              "      <th>50%</th>\n",
              "      <th>75%</th>\n",
              "      <th>max</th>\n",
              "    </tr>\n",
              "  </thead>\n",
              "  <tbody>\n",
              "    <tr>\n",
              "      <th>user_id</th>\n",
              "      <td>100</td>\n",
              "      <td>100</td>\n",
              "      <td>546592</td>\n",
              "      <td>1</td>\n",
              "      <td>NaN</td>\n",
              "      <td>NaN</td>\n",
              "      <td>NaN</td>\n",
              "      <td>NaN</td>\n",
              "      <td>NaN</td>\n",
              "      <td>NaN</td>\n",
              "      <td>NaN</td>\n",
              "    </tr>\n",
              "    <tr>\n",
              "      <th>group</th>\n",
              "      <td>100</td>\n",
              "      <td>2</td>\n",
              "      <td>control</td>\n",
              "      <td>50</td>\n",
              "      <td>NaN</td>\n",
              "      <td>NaN</td>\n",
              "      <td>NaN</td>\n",
              "      <td>NaN</td>\n",
              "      <td>NaN</td>\n",
              "      <td>NaN</td>\n",
              "      <td>NaN</td>\n",
              "    </tr>\n",
              "    <tr>\n",
              "      <th>landing_page</th>\n",
              "      <td>100</td>\n",
              "      <td>2</td>\n",
              "      <td>old</td>\n",
              "      <td>50</td>\n",
              "      <td>NaN</td>\n",
              "      <td>NaN</td>\n",
              "      <td>NaN</td>\n",
              "      <td>NaN</td>\n",
              "      <td>NaN</td>\n",
              "      <td>NaN</td>\n",
              "      <td>NaN</td>\n",
              "    </tr>\n",
              "    <tr>\n",
              "      <th>time_spent_on_the_page</th>\n",
              "      <td>100.000</td>\n",
              "      <td>NaN</td>\n",
              "      <td>NaN</td>\n",
              "      <td>NaN</td>\n",
              "      <td>5.378</td>\n",
              "      <td>2.378</td>\n",
              "      <td>0.190</td>\n",
              "      <td>3.880</td>\n",
              "      <td>5.415</td>\n",
              "      <td>7.022</td>\n",
              "      <td>10.710</td>\n",
              "    </tr>\n",
              "    <tr>\n",
              "      <th>converted</th>\n",
              "      <td>100</td>\n",
              "      <td>2</td>\n",
              "      <td>yes</td>\n",
              "      <td>54</td>\n",
              "      <td>NaN</td>\n",
              "      <td>NaN</td>\n",
              "      <td>NaN</td>\n",
              "      <td>NaN</td>\n",
              "      <td>NaN</td>\n",
              "      <td>NaN</td>\n",
              "      <td>NaN</td>\n",
              "    </tr>\n",
              "    <tr>\n",
              "      <th>language_preferred</th>\n",
              "      <td>100</td>\n",
              "      <td>3</td>\n",
              "      <td>Spanish</td>\n",
              "      <td>34</td>\n",
              "      <td>NaN</td>\n",
              "      <td>NaN</td>\n",
              "      <td>NaN</td>\n",
              "      <td>NaN</td>\n",
              "      <td>NaN</td>\n",
              "      <td>NaN</td>\n",
              "      <td>NaN</td>\n",
              "    </tr>\n",
              "  </tbody>\n",
              "</table>\n",
              "</div>\n",
              "    <div class=\"colab-df-buttons\">\n",
              "\n",
              "  <div class=\"colab-df-container\">\n",
              "    <button class=\"colab-df-convert\" onclick=\"convertToInteractive('df-a4a7f179-3a2a-4198-ba4a-868ab646ea46')\"\n",
              "            title=\"Convert this dataframe to an interactive table.\"\n",
              "            style=\"display:none;\">\n",
              "\n",
              "  <svg xmlns=\"http://www.w3.org/2000/svg\" height=\"24px\" viewBox=\"0 -960 960 960\">\n",
              "    <path d=\"M120-120v-720h720v720H120Zm60-500h600v-160H180v160Zm220 220h160v-160H400v160Zm0 220h160v-160H400v160ZM180-400h160v-160H180v160Zm440 0h160v-160H620v160ZM180-180h160v-160H180v160Zm440 0h160v-160H620v160Z\"/>\n",
              "  </svg>\n",
              "    </button>\n",
              "\n",
              "  <style>\n",
              "    .colab-df-container {\n",
              "      display:flex;\n",
              "      gap: 12px;\n",
              "    }\n",
              "\n",
              "    .colab-df-convert {\n",
              "      background-color: #E8F0FE;\n",
              "      border: none;\n",
              "      border-radius: 50%;\n",
              "      cursor: pointer;\n",
              "      display: none;\n",
              "      fill: #1967D2;\n",
              "      height: 32px;\n",
              "      padding: 0 0 0 0;\n",
              "      width: 32px;\n",
              "    }\n",
              "\n",
              "    .colab-df-convert:hover {\n",
              "      background-color: #E2EBFA;\n",
              "      box-shadow: 0px 1px 2px rgba(60, 64, 67, 0.3), 0px 1px 3px 1px rgba(60, 64, 67, 0.15);\n",
              "      fill: #174EA6;\n",
              "    }\n",
              "\n",
              "    .colab-df-buttons div {\n",
              "      margin-bottom: 4px;\n",
              "    }\n",
              "\n",
              "    [theme=dark] .colab-df-convert {\n",
              "      background-color: #3B4455;\n",
              "      fill: #D2E3FC;\n",
              "    }\n",
              "\n",
              "    [theme=dark] .colab-df-convert:hover {\n",
              "      background-color: #434B5C;\n",
              "      box-shadow: 0px 1px 3px 1px rgba(0, 0, 0, 0.15);\n",
              "      filter: drop-shadow(0px 1px 2px rgba(0, 0, 0, 0.3));\n",
              "      fill: #FFFFFF;\n",
              "    }\n",
              "  </style>\n",
              "\n",
              "    <script>\n",
              "      const buttonEl =\n",
              "        document.querySelector('#df-a4a7f179-3a2a-4198-ba4a-868ab646ea46 button.colab-df-convert');\n",
              "      buttonEl.style.display =\n",
              "        google.colab.kernel.accessAllowed ? 'block' : 'none';\n",
              "\n",
              "      async function convertToInteractive(key) {\n",
              "        const element = document.querySelector('#df-a4a7f179-3a2a-4198-ba4a-868ab646ea46');\n",
              "        const dataTable =\n",
              "          await google.colab.kernel.invokeFunction('convertToInteractive',\n",
              "                                                    [key], {});\n",
              "        if (!dataTable) return;\n",
              "\n",
              "        const docLinkHtml = 'Like what you see? Visit the ' +\n",
              "          '<a target=\"_blank\" href=https://colab.research.google.com/notebooks/data_table.ipynb>data table notebook</a>'\n",
              "          + ' to learn more about interactive tables.';\n",
              "        element.innerHTML = '';\n",
              "        dataTable['output_type'] = 'display_data';\n",
              "        await google.colab.output.renderOutput(dataTable, element);\n",
              "        const docLink = document.createElement('div');\n",
              "        docLink.innerHTML = docLinkHtml;\n",
              "        element.appendChild(docLink);\n",
              "      }\n",
              "    </script>\n",
              "  </div>\n",
              "\n",
              "\n",
              "<div id=\"df-fa3d9f05-f37b-47e6-958c-2105192daa05\">\n",
              "  <button class=\"colab-df-quickchart\" onclick=\"quickchart('df-fa3d9f05-f37b-47e6-958c-2105192daa05')\"\n",
              "            title=\"Suggest charts.\"\n",
              "            style=\"display:none;\">\n",
              "\n",
              "<svg xmlns=\"http://www.w3.org/2000/svg\" height=\"24px\"viewBox=\"0 0 24 24\"\n",
              "     width=\"24px\">\n",
              "    <g>\n",
              "        <path d=\"M19 3H5c-1.1 0-2 .9-2 2v14c0 1.1.9 2 2 2h14c1.1 0 2-.9 2-2V5c0-1.1-.9-2-2-2zM9 17H7v-7h2v7zm4 0h-2V7h2v10zm4 0h-2v-4h2v4z\"/>\n",
              "    </g>\n",
              "</svg>\n",
              "  </button>\n",
              "\n",
              "<style>\n",
              "  .colab-df-quickchart {\n",
              "      --bg-color: #E8F0FE;\n",
              "      --fill-color: #1967D2;\n",
              "      --hover-bg-color: #E2EBFA;\n",
              "      --hover-fill-color: #174EA6;\n",
              "      --disabled-fill-color: #AAA;\n",
              "      --disabled-bg-color: #DDD;\n",
              "  }\n",
              "\n",
              "  [theme=dark] .colab-df-quickchart {\n",
              "      --bg-color: #3B4455;\n",
              "      --fill-color: #D2E3FC;\n",
              "      --hover-bg-color: #434B5C;\n",
              "      --hover-fill-color: #FFFFFF;\n",
              "      --disabled-bg-color: #3B4455;\n",
              "      --disabled-fill-color: #666;\n",
              "  }\n",
              "\n",
              "  .colab-df-quickchart {\n",
              "    background-color: var(--bg-color);\n",
              "    border: none;\n",
              "    border-radius: 50%;\n",
              "    cursor: pointer;\n",
              "    display: none;\n",
              "    fill: var(--fill-color);\n",
              "    height: 32px;\n",
              "    padding: 0;\n",
              "    width: 32px;\n",
              "  }\n",
              "\n",
              "  .colab-df-quickchart:hover {\n",
              "    background-color: var(--hover-bg-color);\n",
              "    box-shadow: 0 1px 2px rgba(60, 64, 67, 0.3), 0 1px 3px 1px rgba(60, 64, 67, 0.15);\n",
              "    fill: var(--button-hover-fill-color);\n",
              "  }\n",
              "\n",
              "  .colab-df-quickchart-complete:disabled,\n",
              "  .colab-df-quickchart-complete:disabled:hover {\n",
              "    background-color: var(--disabled-bg-color);\n",
              "    fill: var(--disabled-fill-color);\n",
              "    box-shadow: none;\n",
              "  }\n",
              "\n",
              "  .colab-df-spinner {\n",
              "    border: 2px solid var(--fill-color);\n",
              "    border-color: transparent;\n",
              "    border-bottom-color: var(--fill-color);\n",
              "    animation:\n",
              "      spin 1s steps(1) infinite;\n",
              "  }\n",
              "\n",
              "  @keyframes spin {\n",
              "    0% {\n",
              "      border-color: transparent;\n",
              "      border-bottom-color: var(--fill-color);\n",
              "      border-left-color: var(--fill-color);\n",
              "    }\n",
              "    20% {\n",
              "      border-color: transparent;\n",
              "      border-left-color: var(--fill-color);\n",
              "      border-top-color: var(--fill-color);\n",
              "    }\n",
              "    30% {\n",
              "      border-color: transparent;\n",
              "      border-left-color: var(--fill-color);\n",
              "      border-top-color: var(--fill-color);\n",
              "      border-right-color: var(--fill-color);\n",
              "    }\n",
              "    40% {\n",
              "      border-color: transparent;\n",
              "      border-right-color: var(--fill-color);\n",
              "      border-top-color: var(--fill-color);\n",
              "    }\n",
              "    60% {\n",
              "      border-color: transparent;\n",
              "      border-right-color: var(--fill-color);\n",
              "    }\n",
              "    80% {\n",
              "      border-color: transparent;\n",
              "      border-right-color: var(--fill-color);\n",
              "      border-bottom-color: var(--fill-color);\n",
              "    }\n",
              "    90% {\n",
              "      border-color: transparent;\n",
              "      border-bottom-color: var(--fill-color);\n",
              "    }\n",
              "  }\n",
              "</style>\n",
              "\n",
              "  <script>\n",
              "    async function quickchart(key) {\n",
              "      const quickchartButtonEl =\n",
              "        document.querySelector('#' + key + ' button');\n",
              "      quickchartButtonEl.disabled = true;  // To prevent multiple clicks.\n",
              "      quickchartButtonEl.classList.add('colab-df-spinner');\n",
              "      try {\n",
              "        const charts = await google.colab.kernel.invokeFunction(\n",
              "            'suggestCharts', [key], {});\n",
              "      } catch (error) {\n",
              "        console.error('Error during call to suggestCharts:', error);\n",
              "      }\n",
              "      quickchartButtonEl.classList.remove('colab-df-spinner');\n",
              "      quickchartButtonEl.classList.add('colab-df-quickchart-complete');\n",
              "    }\n",
              "    (() => {\n",
              "      let quickchartButtonEl =\n",
              "        document.querySelector('#df-fa3d9f05-f37b-47e6-958c-2105192daa05 button');\n",
              "      quickchartButtonEl.style.display =\n",
              "        google.colab.kernel.accessAllowed ? 'block' : 'none';\n",
              "    })();\n",
              "  </script>\n",
              "</div>\n",
              "    </div>\n",
              "  </div>\n"
            ]
          },
          "metadata": {},
          "execution_count": 10
        }
      ]
    },
    {
      "cell_type": "markdown",
      "source": [
        "Observations:\n",
        "* `user_id`: Each data entry is associated with a distinct user\n",
        "* `group`: The dataset is evenly divided between users that were served the old landing page and those that that were served the new page\n",
        "* `time_spent_on_the_page`: On average a user spends 5.378 minutes on the landing page, while the median is 5.415 minutes. There is a huge difference between the minimum value and the 25% percentile, which indicates that there may be outliers present.\n",
        "* `converted`: 54 users in the dataset converted\n",
        "* `language_preferred`: Spanish appears to be the most preferred language, with 34 entries"
      ],
      "metadata": {
        "id": "wyNr7GrxyzhQ"
      },
      "id": "wyNr7GrxyzhQ"
    },
    {
      "cell_type": "markdown",
      "metadata": {
        "id": "68f3b2c9"
      },
      "source": [
        "### Univariate Analysis"
      ],
      "id": "68f3b2c9"
    },
    {
      "cell_type": "markdown",
      "source": [
        "**User ID**"
      ],
      "metadata": {
        "id": "13QirUMzNzKj"
      },
      "id": "13QirUMzNzKj"
    },
    {
      "cell_type": "code",
      "source": [
        "# Check number of unique users\n",
        "user_data['user_id'].nunique()"
      ],
      "metadata": {
        "colab": {
          "base_uri": "https://localhost:8080/"
        },
        "id": "XY21t2vNNzSW",
        "outputId": "107158f5-331b-488f-a823-567d57878412"
      },
      "id": "XY21t2vNNzSW",
      "execution_count": null,
      "outputs": [
        {
          "output_type": "execute_result",
          "data": {
            "text/plain": [
              "100"
            ]
          },
          "metadata": {},
          "execution_count": 11
        }
      ]
    },
    {
      "cell_type": "markdown",
      "source": [
        "Observations:\n",
        "* There are 100 unique users.\n",
        "* As observed in the statistical summary above, each data entry represents a distinct user."
      ],
      "metadata": {
        "id": "hxeGcKa-NzZx"
      },
      "id": "hxeGcKa-NzZx"
    },
    {
      "cell_type": "markdown",
      "source": [
        "**Group**"
      ],
      "metadata": {
        "id": "_IpgjL5ZN_vH"
      },
      "id": "_IpgjL5ZN_vH"
    },
    {
      "cell_type": "code",
      "source": [
        "# Check number of unique groups\n",
        "user_data['group'].value_counts()"
      ],
      "metadata": {
        "colab": {
          "base_uri": "https://localhost:8080/"
        },
        "id": "t87ZmymeN_3w",
        "outputId": "b90d4331-db8a-4607-cf71-9cb5e05b48ed"
      },
      "id": "t87ZmymeN_3w",
      "execution_count": null,
      "outputs": [
        {
          "output_type": "execute_result",
          "data": {
            "text/plain": [
              "control      50\n",
              "treatment    50\n",
              "Name: group, dtype: int64"
            ]
          },
          "metadata": {},
          "execution_count": 12
        }
      ]
    },
    {
      "cell_type": "markdown",
      "source": [
        "Observations:\n",
        "* There are only two unique groups as was described in the problem statement: control and treatment.\n",
        "* The users are evenly split between the two groups."
      ],
      "metadata": {
        "id": "_gfkRzIlN_-u"
      },
      "id": "_gfkRzIlN_-u"
    },
    {
      "cell_type": "markdown",
      "source": [
        "**Landing Page**"
      ],
      "metadata": {
        "id": "XXtlLEoYOCc_"
      },
      "id": "XXtlLEoYOCc_"
    },
    {
      "cell_type": "code",
      "source": [
        "# Check number of unique landing pages\n",
        "user_data['landing_page'].value_counts()"
      ],
      "metadata": {
        "colab": {
          "base_uri": "https://localhost:8080/"
        },
        "id": "E-xNzzHoOCkK",
        "outputId": "a43af68d-2a8e-44a8-b511-f7b76c86a0cc"
      },
      "id": "E-xNzzHoOCkK",
      "execution_count": null,
      "outputs": [
        {
          "output_type": "execute_result",
          "data": {
            "text/plain": [
              "old    50\n",
              "new    50\n",
              "Name: landing_page, dtype: int64"
            ]
          },
          "metadata": {},
          "execution_count": 13
        }
      ]
    },
    {
      "cell_type": "markdown",
      "source": [
        "Observations:\n",
        "* There are only two unique landing pages as was described in the problem statement: the existing page and the redesigned page.\n",
        "* The users are evenly split between the two landing pages. This matches the data observed in the group column."
      ],
      "metadata": {
        "id": "Sv-hB6KOOCrh"
      },
      "id": "Sv-hB6KOOCrh"
    },
    {
      "cell_type": "markdown",
      "source": [
        "**Time Spent on the Page**"
      ],
      "metadata": {
        "id": "GGbx9cd_Lee4"
      },
      "id": "GGbx9cd_Lee4"
    },
    {
      "cell_type": "code",
      "source": [
        "# Change default background style\n",
        "sns.set_style(\"darkgrid\")\n",
        "\n",
        "# Set axis label style\n",
        "label_fontdict = {'weight': 'bold', 'size': 12}\n",
        "\n",
        "# Set subplot title style\n",
        "subplot_fontdict = {'weight': 'bold', 'size': 15}\n",
        "\n",
        "# Set mean marker style\n",
        "meanprops_dict = {\"marker\": \"+\", \"markeredgecolor\": \"white\", \"markersize\": \"10\"}\n",
        "\n",
        "# Create 2 subplots in 1 row and 2 columns\n",
        "fig, axes = plt.subplots(nrows=1, ncols=2, figsize=(20, 7))\n",
        "\n",
        "# Plot the histogram\n",
        "time_hist = sns.histplot(data=user_data, x='time_spent_on_the_page', kde=True,\n",
        "                         ax=axes[0]);\n",
        "time_hist.set_ylabel('Number of Users', fontdict=label_fontdict)\n",
        "time_hist.set_title('Distribution of Time Spent on Page',\n",
        "                    fontdict=subplot_fontdict)\n",
        "\n",
        "# Plot the boxplot\n",
        "time_box = sns.boxplot(data=user_data, x='time_spent_on_the_page',\n",
        "                       y='landing_page', showmeans=True,\n",
        "                       meanprops=meanprops_dict, palette='mako', ax=axes[1]);\n",
        "time_box.set_ylabel('Landing Page', fontdict=label_fontdict);\n",
        "time_box.set_title('Time Spent on Page vs. Landing Page', fontdict=subplot_fontdict)\n",
        "\n",
        "for ax in axes.flat:\n",
        "  ax.set_xlabel('Time Spent on Page (min)', fontdict=label_fontdict)"
      ],
      "metadata": {
        "colab": {
          "base_uri": "https://localhost:8080/",
          "height": 530
        },
        "id": "dUXNVnDlLhWZ",
        "outputId": "dff1d887-1b90-4eae-8b04-dbbce5e78a46"
      },
      "id": "dUXNVnDlLhWZ",
      "execution_count": null,
      "outputs": [
        {
          "output_type": "display_data",
          "data": {
            "text/plain": [
              "<Figure size 2000x700 with 2 Axes>"
            ],
            "image/png": "[encoded data removed]"
          },
          "metadata": {}
        }
      ]
    },
    {
      "cell_type": "markdown",
      "source": [
        "Observations:\n",
        "* The combined data (represented in the histogram) has an approximately normal distribution.\n",
        "* There are three outliers in the time spent on the new landing page, but none for the time spent on the old page.\n",
        "* The time spend on the old landing page has a slight right skew, while the time spend on the new page approximates a normal distribution.\n",
        "* The new landing page has a higher minimum, median and mean user time spend than the old landing page.\n",
        "* The time spend variation for the new landing page is less than that of the old page."
      ],
      "metadata": {
        "id": "2muGXOUTLk9i"
      },
      "id": "2muGXOUTLk9i"
    },
    {
      "cell_type": "markdown",
      "source": [
        "**Converted**"
      ],
      "metadata": {
        "id": "1QChQtMVIiSR"
      },
      "id": "1QChQtMVIiSR"
    },
    {
      "cell_type": "code",
      "source": [
        "# Set title\n",
        "plt.title(\"Total Landing Page Conversions\", fontweight='bold')\n",
        "\n",
        "# Plot the countplot\n",
        "conv_count = sns.countplot(data=user_data, x='converted', palette='mako')\n",
        "\n",
        "# Set title\n",
        "conv_count.set_xlabel('Converted', font=label_fontdict)\n",
        "conv_count.set_ylabel('Number of Users', font=label_fontdict);"
      ],
      "metadata": {
        "colab": {
          "base_uri": "https://localhost:8080/",
          "height": 476
        },
        "id": "S7FFHM0AIia7",
        "outputId": "046f1b57-2e3a-402d-a8f2-3de834c3fa9c"
      },
      "id": "S7FFHM0AIia7",
      "execution_count": null,
      "outputs": [
        {
          "output_type": "display_data",
          "data": {
            "text/plain": [
              "<Figure size 640x480 with 1 Axes>"
            ],
            "image/png": "[encoded data removed]"
          },
          "metadata": {}
        }
      ]
    },
    {
      "cell_type": "markdown",
      "source": [
        "Observations:\n",
        "* The distribution shows that about 10 additional users became new subscribers compared to those that did not.\n",
        "* As the number that converted is larger than the number of users in each group, it suggests that there was a shift in user behavior."
      ],
      "metadata": {
        "id": "8fbwKLpRLleL"
      },
      "id": "8fbwKLpRLleL"
    },
    {
      "cell_type": "markdown",
      "source": [
        "**Language Preferred**"
      ],
      "metadata": {
        "id": "opv-xzHK2aji"
      },
      "id": "opv-xzHK2aji"
    },
    {
      "cell_type": "code",
      "source": [
        "# Set title\n",
        "plt.title(\"Landing Page Language Preference\", fontweight='bold')\n",
        "\n",
        "# Plot the countplot\n",
        "lang_count = sns.countplot(data=user_data, x='language_preferred',\n",
        "                           palette='mako')\n",
        "\n",
        "# Set title\n",
        "lang_count.set_xlabel('Language', font=label_fontdict)\n",
        "lang_count.set_ylabel('Number of Users', font=label_fontdict);"
      ],
      "metadata": {
        "colab": {
          "base_uri": "https://localhost:8080/",
          "height": 476
        },
        "id": "NldtsdmWviPT",
        "outputId": "212a7ada-c6c7-49b7-e8cb-6008d99a83ae"
      },
      "id": "NldtsdmWviPT",
      "execution_count": null,
      "outputs": [
        {
          "output_type": "display_data",
          "data": {
            "text/plain": [
              "<Figure size 640x480 with 1 Axes>"
            ],
            "image/png": "[encoded data removed]"
          },
          "metadata": {}
        }
      ]
    },
    {
      "cell_type": "markdown",
      "source": [
        "Observations:\n",
        "* The language_preferred column contains three unique languages: Spanish, French, and English.\n",
        "* Language preference is roughly evenly distributed, with only a slight preference for Spanish and French."
      ],
      "metadata": {
        "id": "_v0P7bXV3W7n"
      },
      "id": "_v0P7bXV3W7n"
    },
    {
      "cell_type": "markdown",
      "metadata": {
        "id": "fad2de2f"
      },
      "source": [
        "### Bivariate Analysis"
      ],
      "id": "fad2de2f"
    },
    {
      "cell_type": "markdown",
      "source": [
        "**Time Spent on Landing Page Across Different Variables**"
      ],
      "metadata": {
        "id": "b1upO-Mqdtp2"
      },
      "id": "b1upO-Mqdtp2"
    },
    {
      "cell_type": "code",
      "metadata": {
        "id": "58e9a1d0",
        "colab": {
          "base_uri": "https://localhost:8080/",
          "height": 403
        },
        "outputId": "8a955b8e-d398-464c-c0a9-a15e4d484fd7"
      },
      "source": [
        "# Create 3 subplots in 1 rows and 3 columns\n",
        "fig, axes = plt.subplots(nrows=1, ncols=3, figsize=(20, 5))\n",
        "\n",
        "# Plot a boxplot for time vs. conversions\n",
        "conv_box = sns.boxplot(data=user_data, x='time_spent_on_the_page',\n",
        "                       y='converted', showmeans=True,\n",
        "                       meanprops=meanprops_dict, palette='cividis', ax=axes[0]);\n",
        "conv_box.set_ylabel('Converted', fontdict=label_fontdict);\n",
        "conv_box.set_title('Time Spent on Page vs. Conversion Status',\n",
        "                   fontdict=subplot_fontdict)\n",
        "\n",
        "# Plot a boxplot for time vs. language preferred\n",
        "lang_box = sns.boxplot(data=user_data, x='time_spent_on_the_page',\n",
        "                       y='language_preferred', showmeans=True,\n",
        "                       meanprops=meanprops_dict, palette='mako', ax=axes[1]);\n",
        "lang_box.set_ylabel('Language Preferred', fontdict=label_fontdict);\n",
        "lang_box.set_title('Time Spent on Page vs. Language Preference',\n",
        "                   fontdict=subplot_fontdict)\n",
        "\n",
        "# Plot a boxplot for time vs. landing page\n",
        "page_box = sns.boxplot(data=user_data, x='time_spent_on_the_page',\n",
        "                       y='landing_page', showmeans=True,\n",
        "                       meanprops=meanprops_dict, palette='rocket', ax=axes[2]);\n",
        "page_box.set_ylabel('Landing Page', fontdict=label_fontdict);\n",
        "page_box.set_title('Time Spent on Page vs. Landing Page',\n",
        "                   fontdict=subplot_fontdict)\n",
        "\n",
        "for ax in axes.flat:\n",
        "  ax.set_xlabel('Time Spent on Page (min)', fontdict=label_fontdict)"
      ],
      "id": "58e9a1d0",
      "execution_count": null,
      "outputs": [
        {
          "output_type": "display_data",
          "data": {
            "text/plain": [
              "<Figure size 2000x500 with 3 Axes>"
            ],
            "image/png": "[encoded data removed]"
          },
          "metadata": {}
        }
      ]
    },
    {
      "cell_type": "markdown",
      "source": [
        "Observations:\n",
        "* Converted vs. Time Spent on Page:\n",
        " * Users that convert tended to spend more time on the landing page. The median time spent on the landing page for users that convert is around 6.5 minutes versus 4 for those that do not.\n",
        " * Both boxplots that illustrate conversion status and time spend have outliers. The boxplot for users that did not convert has 1 outlier to the right, and the boxplot for users that did convert has 4 outliers, 1 to the left and 3 to the right.\n",
        " * The boxplot for users that did not convert exhibits a right skew, while the boxplot for users that did convert appears to have an approximately normal distribution.\n",
        " * The variation for the boxplot for users that did not convert is greater than that for those that did.\n",
        "* Language Preferred vs. Time Spent on Page:\n",
        "  * The median time spend across the three languages is approximately the same, around 5.5 minutes.\n",
        "  * The time spend for English and French is approximately equal and greater than that for Spanish.\n",
        "  * There is only one left outlier for Spanish.\n",
        "* Landing Page vs. Time Spent on Page (from previous analysis):\n",
        " * There are three outliers in the time spent on the new landing page, but none for the time spent on the old page.\n",
        " * The time spend on the old landing page has a slight right skew, while the time spend on the new page approximates a normal distribution.\n",
        " * The new landing page has a higher minimum and median user time spend than the old landing page.\n",
        " * The time spend variation for the new landing page is less than that of the old page."
      ],
      "metadata": {
        "id": "4zcTWrhwd5Of"
      },
      "id": "4zcTWrhwd5Of"
    },
    {
      "cell_type": "markdown",
      "source": [
        "**Language vs. Converted**"
      ],
      "metadata": {
        "id": "Pd65GekehxBZ"
      },
      "id": "Pd65GekehxBZ"
    },
    {
      "cell_type": "code",
      "source": [
        "# Create 2 subplots in 1 rows and 2 columns\n",
        "fig, axes = plt.subplots(nrows=1, ncols=2, figsize=(20, 5))\n",
        "\n",
        "# Plot the countplot for language preferred and conversion status\n",
        "lang_count = sns.countplot(data=user_data, x='language_preferred',\n",
        "                           hue='converted', palette='mako', ax=axes[0])\n",
        "lang_count.set_ylabel('Number of Users', font=label_fontdict);\n",
        "lang_count.set_title('Language Preference vs. Conversion Status',\n",
        "                     font=subplot_fontdict);\n",
        "\n",
        "# Update legend titles\n",
        "lang_count.get_legend().set_title('Conversion Status')\n",
        "\n",
        "# Plot the countplot for language preferred and conversion status\n",
        "page_count = sns.countplot(data=user_data, x='language_preferred',\n",
        "                           hue='landing_page', palette='rocket', ax=axes[1])\n",
        "page_count.set_title('Language Preference vs. Landing Page',\n",
        "                     font=subplot_fontdict);\n",
        "\n",
        "# Update legend titles\n",
        "page_count.get_legend().set_title('Landing Page')\n",
        "\n",
        "for ax in axes.flat:\n",
        "  ax.set_ylabel('Number of Users', font=label_fontdict);\n",
        "  ax.set_xlabel('Language Preferred', fontdict=label_fontdict)"
      ],
      "metadata": {
        "colab": {
          "base_uri": "https://localhost:8080/",
          "height": 401
        },
        "id": "61QOMQjTdpa9",
        "outputId": "a6c7232a-99c1-4b78-e0a7-7ffc2e7a67ae"
      },
      "id": "61QOMQjTdpa9",
      "execution_count": null,
      "outputs": [
        {
          "output_type": "display_data",
          "data": {
            "text/plain": [
              "<Figure size 2000x500 with 2 Axes>"
            ],
            "image/png": "[encoded data removed]"
          },
          "metadata": {}
        }
      ]
    },
    {
      "cell_type": "markdown",
      "source": [
        "Observations:\n",
        "* Users viewing the landing page in Spanish and English were more likely to convert, while French users mostly did not convert. This difference is the most notable for the English language.\n",
        "* The study selected the same amount of users to view each landing page for each of the languages.\n"
      ],
      "metadata": {
        "id": "QSmE71JxiUkc"
      },
      "id": "QSmE71JxiUkc"
    },
    {
      "cell_type": "markdown",
      "source": [
        "**Converted vs. Landing Page**"
      ],
      "metadata": {
        "id": "_ZO-PvWzkZHS"
      },
      "id": "_ZO-PvWzkZHS"
    },
    {
      "cell_type": "code",
      "source": [
        "# Set title\n",
        "plt.title(\"Conversions per Landing Page\", fontweight='bold')\n",
        "\n",
        "# Plot the countplot\n",
        "page_count = sns.countplot(data=user_data, x='landing_page', hue='converted',\n",
        "                           palette='mako')\n",
        "\n",
        "# Update legend titles\n",
        "page_count.get_legend().set_title('Conversion Status')\n",
        "\n",
        "# Set title\n",
        "page_count.set_xlabel('Landing Page', font=label_fontdict)\n",
        "page_count.set_ylabel('Number of Users', font=label_fontdict);"
      ],
      "metadata": {
        "colab": {
          "base_uri": "https://localhost:8080/",
          "height": 476
        },
        "id": "pmo0bEXadpd6",
        "outputId": "a8c5dbfe-3f2e-477f-bd6f-d7997f4fd3c2"
      },
      "id": "pmo0bEXadpd6",
      "execution_count": null,
      "outputs": [
        {
          "output_type": "display_data",
          "data": {
            "text/plain": [
              "<Figure size 640x480 with 1 Axes>"
            ],
            "image/png": "[encoded data removed]"
          },
          "metadata": {}
        }
      ]
    },
    {
      "cell_type": "markdown",
      "source": [
        "Observations:\n",
        "* Around half of the users who viewed the new landing page converted, which is significantly higher than the conversion rate of those that were served the old page.\n",
        "* The old landing page experienced a higher rate of non-conversion among users."
      ],
      "metadata": {
        "id": "ns9x6mcQk6Nh"
      },
      "id": "ns9x6mcQk6Nh"
    },
    {
      "cell_type": "markdown",
      "source": [
        "****"
      ],
      "metadata": {
        "id": "NJUmknAYd57V"
      },
      "id": "NJUmknAYd57V"
    },
    {
      "cell_type": "markdown",
      "metadata": {
        "id": "27906576"
      },
      "source": [
        "## 1. Do the users spend more time on the new landing page than the existing landing page?"
      ],
      "id": "27906576"
    },
    {
      "cell_type": "markdown",
      "metadata": {
        "id": "e5fdf0c8"
      },
      "source": [
        "### Perform Visual Analysis"
      ],
      "id": "e5fdf0c8"
    },
    {
      "cell_type": "code",
      "metadata": {
        "id": "6eZJa41eg21n",
        "colab": {
          "base_uri": "https://localhost:8080/",
          "height": 476
        },
        "outputId": "9b1ae500-2e0a-4bf5-a22f-7f7555f9839e"
      },
      "source": [
        "# Set title\n",
        "plt.title(\"Time Spent on Landing Page\", fontweight='bold')\n",
        "\n",
        "# Plot the boxplot\n",
        "time_box = sns.boxplot(data=user_data, x='time_spent_on_the_page',\n",
        "                       y='landing_page', showmeans=True,\n",
        "                       meanprops=meanprops_dict, palette='mako')\n",
        "\n",
        "# Set labels\n",
        "time_box.set_ylabel('Landing Page', fontdict=label_fontdict)\n",
        "time_box.set_xlabel('Time Spent on Page (min)', fontdict=label_fontdict);"
      ],
      "id": "6eZJa41eg21n",
      "execution_count": null,
      "outputs": [
        {
          "output_type": "display_data",
          "data": {
            "text/plain": [
              "<Figure size 640x480 with 1 Axes>"
            ],
            "image/png": "[encoded data removed]"
          },
          "metadata": {}
        }
      ]
    },
    {
      "cell_type": "markdown",
      "source": [
        "Observations (from previous analysis):\n",
        "* There are three outliers in the time spent on the new landing page, but none for the time spent on the old page.\n",
        "* The time spend on the old landing page has a slight right skew, while the time spend on the new page approximates a normal distribution.\n",
        "* The new landing page has a higher minimum, median and mean user time spend than the old landing page.\n",
        "* The time spend variation for the new landing page is less than that of the old page."
      ],
      "metadata": {
        "id": "bjW3T5yG4IsP"
      },
      "id": "bjW3T5yG4IsP"
    },
    {
      "cell_type": "markdown",
      "metadata": {
        "id": "56b3dafd"
      },
      "source": [
        "### Step 1: Define the null and alternate hypotheses"
      ],
      "id": "56b3dafd"
    },
    {
      "cell_type": "markdown",
      "metadata": {
        "id": "d2ac77ef"
      },
      "source": [
        "Let $\\mu_{old}$, $\\mu_{new}$ be the mean time E-News Express users spent on the old and new landing pages respectively.\n",
        "\n",
        "We will test the null hypothesis, which states that the mean time  spent on the old landing page is the same as that on the new:\n",
        "\n",
        ">$H_0:\\mu_{old} = \\mu_{new}$\n",
        "\n",
        "against the alternate hypothesis, which states that the mean time spent on the new landing page is greater than that on the existing landing page:\n",
        "\n",
        ">$H_a:\\mu_{old} < \\mu_{new}$"
      ],
      "id": "d2ac77ef"
    },
    {
      "cell_type": "markdown",
      "metadata": {
        "id": "c7ee4907"
      },
      "source": [
        "### Step 2: Select appropriate test"
      ],
      "id": "c7ee4907"
    },
    {
      "cell_type": "code",
      "source": [
        "# Find the sample means and sample standard deviations for the two samples\n",
        "old_page_data = user_data[user_data['landing_page'] == 'old']\n",
        "new_page_data = user_data[user_data['landing_page'] == 'new']\n",
        "\n",
        "print('The mean time spent on the existing landing page is '\n",
        "      + str(round(old_page_data['time_spent_on_the_page'].mean(), 3))\n",
        "      + ' minutes')\n",
        "print('The mean time spent on the new landing page is '\n",
        "      + str(round(new_page_data['time_spent_on_the_page'].mean(), 3))\n",
        "      + ' minutes')\n",
        "\n",
        "print('The standard deviation of time spent on the existing landing page is '\n",
        "      + str(round(old_page_data['time_spent_on_the_page'].std(), 3))\n",
        "      + ' minutes')\n",
        "print('The standard deviation of time spent on the new landing page is '\n",
        "      + str(round(new_page_data['time_spent_on_the_page'].std(), 3))\n",
        "      + ' minutes')"
      ],
      "metadata": {
        "colab": {
          "base_uri": "https://localhost:8080/"
        },
        "id": "1jqAlUlt7Rih",
        "outputId": "217687ab-d5bc-4ea2-9bb2-9e2f7f0d02d1"
      },
      "id": "1jqAlUlt7Rih",
      "execution_count": null,
      "outputs": [
        {
          "output_type": "stream",
          "name": "stdout",
          "text": [
            "The mean time spent on the existing landing page is 4.532 minutes\n",
            "The mean time spent on the new landing page is 6.223 minutes\n",
            "The standard deviation of time spent on the existing landing page is 2.582 minutes\n",
            "The standard deviation of time spent on the new landing page is 1.817 minutes\n"
          ]
        }
      ]
    },
    {
      "cell_type": "markdown",
      "metadata": {
        "id": "2c183cd7"
      },
      "source": [
        "Given that the population standard deviations are unknown and that the sample standard deviations are different, the **two independent sample T-test for equality of means** is the appropriate test, provided all the assumptions are satisfied. This will be a one-tailed test."
      ],
      "id": "2c183cd7"
    },
    {
      "cell_type": "markdown",
      "source": [
        "#### Test whether the T-test assumptions are satisfied or not\n",
        "* **Continuous data**: Yes, time is measured on a continuous scale.\n",
        "* **Normally distributed populations**: Yes, given that the sample size for both sets exceeds 30, the Central Limit Theorem suggests the distribution of sample averages will be approximately normal.\n",
        "* **Independent populations**: Yes, given that the samples are selected from two distinct groups, it is clear that these samples originate from two independent populations.\n",
        "* **Unequal population standard deviations**: Yes, the variance in the sample standard deviations suggests that the population standard deviations will likely also differ.\n",
        "* **Random sampling from the population**: Yes, we are informed that the samples taken are simple random samples.\n",
        "\n",
        "Given that the T-test assumptions hold, we can proceed with the two independent sample T-test for equality of means."
      ],
      "metadata": {
        "id": "oQHtG3qiA9_G"
      },
      "id": "oQHtG3qiA9_G"
    },
    {
      "cell_type": "markdown",
      "metadata": {
        "id": "3f58c9a7"
      },
      "source": [
        "### Step 3: Decide the significance level\n"
      ],
      "id": "3f58c9a7"
    },
    {
      "cell_type": "markdown",
      "metadata": {
        "id": "92d7d7ee"
      },
      "source": [
        "As stated in the problem overview:\n",
        ">$α = 0.05$"
      ],
      "id": "92d7d7ee"
    },
    {
      "cell_type": "markdown",
      "metadata": {
        "id": "5fed2eac"
      },
      "source": [
        "### Step 4: Collect and prepare data"
      ],
      "id": "5fed2eac"
    },
    {
      "cell_type": "code",
      "metadata": {
        "id": "f5a59495"
      },
      "source": [
        "# Create new series for time spent by users on both landing pages\n",
        "old_page_time = old_page_data['time_spent_on_the_page']\n",
        "new_page_time = new_page_data['time_spent_on_the_page']"
      ],
      "id": "f5a59495",
      "execution_count": null,
      "outputs": []
    },
    {
      "cell_type": "markdown",
      "metadata": {
        "id": "f5c5258d"
      },
      "source": [
        "### Step 5: Calculate the p-value"
      ],
      "id": "f5c5258d"
    },
    {
      "cell_type": "code",
      "metadata": {
        "id": "fac8594a",
        "colab": {
          "base_uri": "https://localhost:8080/"
        },
        "outputId": "62d5a56f-037a-4735-9b43-25c1bd593a6d"
      },
      "source": [
        "# Import the required functions\n",
        "from scipy.stats import ttest_ind\n",
        "\n",
        "# Find the p-value\n",
        "test_stat, p_value = ttest_ind(new_page_time, old_page_time, equal_var = False,\n",
        "                               alternative = 'greater')\n",
        "print('The p-value is', p_value)"
      ],
      "id": "fac8594a",
      "execution_count": null,
      "outputs": [
        {
          "output_type": "stream",
          "name": "stdout",
          "text": [
            "The p-value is 0.0001392381225166549\n"
          ]
        }
      ]
    },
    {
      "cell_type": "markdown",
      "metadata": {
        "id": "359b12f8"
      },
      "source": [
        "### Step 6: Compare the p-value with $\\alpha$"
      ],
      "id": "359b12f8"
    },
    {
      "cell_type": "code",
      "source": [
        "# Print a conclusion based on the provided p_value and a significance level\n",
        "def print_test_conclusion(p_value, alpha=0.05):\n",
        "    base_msg = f\"Given a p-value of {p_value:.5f} and an alpha of {alpha},\"\n",
        "\n",
        "    if p_value < alpha:\n",
        "        conclusion = (f\"{base_msg} there is sufficient evidence to reject \"\n",
        "                      \"the null hypothesis.\")\n",
        "    else:\n",
        "        conclusion = (f\"{base_msg} there is not enough evidence to reject \"\n",
        "                      \"the null hypothesis.\")\n",
        "\n",
        "    print(conclusion)"
      ],
      "metadata": {
        "id": "zPp2rE0wEnz_"
      },
      "id": "zPp2rE0wEnz_",
      "execution_count": null,
      "outputs": []
    },
    {
      "cell_type": "code",
      "source": [
        "print_test_conclusion(p_value)"
      ],
      "metadata": {
        "colab": {
          "base_uri": "https://localhost:8080/"
        },
        "id": "S0wit6bSF7IT",
        "outputId": "9c7d658d-6189-4599-bd95-2fd27a212044"
      },
      "id": "S0wit6bSF7IT",
      "execution_count": null,
      "outputs": [
        {
          "output_type": "stream",
          "name": "stdout",
          "text": [
            "Given a p-value of 0.00014 and an alpha of 0.05, there is sufficient evidence to reject the null hypothesis.\n"
          ]
        }
      ]
    },
    {
      "cell_type": "markdown",
      "metadata": {
        "id": "d9affc84"
      },
      "source": [
        "### Step 7:  Draw inference"
      ],
      "id": "d9affc84"
    },
    {
      "cell_type": "markdown",
      "metadata": {
        "id": "6b16dd4b"
      },
      "source": [
        "As the p-value falls below the predetermined level of significance, we can confidently reject the null hypothesis. Consequently, there exists sufficient evidence to support the claim that users spend more time on the new landing page than on the old one."
      ],
      "id": "6b16dd4b"
    },
    {
      "cell_type": "markdown",
      "source": [
        "## 2. Is the conversion rate (the proportion of users who visit the landing page and get converted) for the new page greater than the conversion rate for the old page?"
      ],
      "metadata": {
        "id": "SrnVYv8oeWLe"
      },
      "id": "SrnVYv8oeWLe"
    },
    {
      "cell_type": "markdown",
      "metadata": {
        "id": "Y-r9yD4lIu0n"
      },
      "source": [
        "### Perform Visual Analysis"
      ],
      "id": "Y-r9yD4lIu0n"
    },
    {
      "cell_type": "code",
      "metadata": {
        "colab": {
          "base_uri": "https://localhost:8080/"
        },
        "outputId": "ac8b57c9-9b9b-4270-a51d-2575d0b1afdb",
        "id": "vquB0hdKIu0o"
      },
      "source": [
        "# Set title\n",
        "plt.title(\"Conversions per Landing Page\", fontweight='bold')\n",
        "\n",
        "# Plot the countplot\n",
        "page_count = sns.countplot(data=user_data, x='landing_page', hue='converted',\n",
        "                           palette='mako')\n",
        "\n",
        "# Update legend titles\n",
        "page_count.get_legend().set_title('Conversion Status')\n",
        "\n",
        "# Set title\n",
        "page_count.set_xlabel('Landing Page', font=label_fontdict)\n",
        "page_count.set_ylabel('Number of Users', font=label_fontdict);"
      ],
      "execution_count": null,
      "outputs": [
        {
          "output_type": "display_data",
          "data": {
            "text/plain": [
              "<Figure size 640x480 with 1 Axes>"
            ],
            "image/png": "[encoded data removed]"
          },
          "metadata": {}
        }
      ],
      "id": "vquB0hdKIu0o"
    },
    {
      "cell_type": "markdown",
      "source": [
        "Observations (from previous analysis):\n",
        "* Around half of the users who viewed the new landing page converted, which is significantly higher than the conversion rate of those that were served the old page.\n",
        "* The old landing page experienced a higher rate of non-conversion among users."
      ],
      "metadata": {
        "id": "lYPOoqUlIu0o"
      },
      "id": "lYPOoqUlIu0o"
    },
    {
      "cell_type": "markdown",
      "metadata": {
        "id": "aWgTWNqDIu0p"
      },
      "source": [
        "### Step 1: Define the null and alternate hypotheses"
      ],
      "id": "aWgTWNqDIu0p"
    },
    {
      "cell_type": "markdown",
      "metadata": {
        "id": "32H5KDebIu0p"
      },
      "source": [
        "Let $p_{old}$, $p_{new}$ be the proportion of E-News Express users who converted when they were served the old and new landing pages respectively.\n",
        "\n",
        "We will test the null hypothesis, which states that the conversion rate on the old landing page is the same as that on the new:\n",
        "\n",
        ">$H_0:p_{old} = p_{new}$\n",
        "\n",
        "against the alternate hypothesis, which states that the conversion rate on the new landing page is greater than that on the existing landing page:\n",
        "\n",
        ">$H_a: p_{old} < p_{new}$"
      ],
      "id": "32H5KDebIu0p"
    },
    {
      "cell_type": "markdown",
      "metadata": {
        "id": "niGsby7aIu0p"
      },
      "source": [
        "### Step 2: Select appropriate test"
      ],
      "id": "niGsby7aIu0p"
    },
    {
      "cell_type": "markdown",
      "metadata": {
        "id": "IwFneo2jIu0q"
      },
      "source": [
        "Given that the data is univariate and discrete, the **two independent sample proportion Z-test** is the appropriate test, provided all the assumptions are satisfied. This will be a one-tailed test."
      ],
      "id": "IwFneo2jIu0q"
    },
    {
      "cell_type": "markdown",
      "source": [
        "#### Test whether the Z-test assumptions are satisfied or not"
      ],
      "metadata": {
        "id": "9oq9x2AIW-Lq"
      },
      "id": "9oq9x2AIW-Lq"
    },
    {
      "cell_type": "code",
      "source": [
        "# Find the number of users in the sample that converted when viewing either\n",
        "# landing page\n",
        "old_page_conv_count = (old_page_data['converted'] == 'yes').sum()\n",
        "new_page_conv_count = (new_page_data['converted'] == 'yes').sum()\n",
        "\n",
        "print('The number of conversions with the existing landing page is '\n",
        "      + str(old_page_conv_count))\n",
        "print('The number of conversions with the new landing page is '\n",
        "      + str(new_page_conv_count))\n",
        "\n",
        "# Find the number of users in the control and treatment groups\n",
        "old_page_user_count = (user_data['group'] == 'control').sum()\n",
        "new_page_user_count = (user_data['group'] == 'treatment').sum()\n",
        "\n",
        "print('The number of users in the control group is '\n",
        "      + str(old_page_user_count))\n",
        "print('The number of users in the treatment group is '\n",
        "      + str(new_page_user_count))"
      ],
      "metadata": {
        "colab": {
          "base_uri": "https://localhost:8080/"
        },
        "id": "ZuIkIPXLWzv6",
        "outputId": "40c1d2fa-50fb-483b-f1ab-12b4c64f09db"
      },
      "id": "ZuIkIPXLWzv6",
      "execution_count": null,
      "outputs": [
        {
          "output_type": "stream",
          "name": "stdout",
          "text": [
            "The number of conversions with the existing landing page is 21\n",
            "The number of conversions with the new landing page is 33\n",
            "The number of users in the control group is 50\n",
            "The number of users in the treatment group is 50\n"
          ]
        }
      ]
    },
    {
      "cell_type": "markdown",
      "source": [
        "* **Binomally distributed population**: Yes, a user either converts or does not.\n",
        "* **Independent populations**: Yes, given that the samples are selected from two distinct groups, it is clear that these samples originate from two independent populations.\n",
        "* **Random sampling from the population**: Yes, we are informed that the samples taken are simple random samples.\n",
        "* **Normally distributed populations**: Yes, the Central Limit Theorem asserts that the binomial distribution can be approximated by the normal distribution if two conditions are satisfied:\n",
        "\n",
        ">   $$np \\geq 10$$\n",
        ">   $$n(1-p) \\geq 10$$\n",
        "\n",
        "where $n,p$ refer to the sample size and sample proportion, respectively.\n",
        "\n",
        "As shown below, both checks passed for the given sample, thus making the approximation appropriate.\n",
        "\n",
        "$$\n",
        "\\begin{align*}\n",
        "n_{old} &= 50, & p_{old} &= \\frac{21}{50} \\\\\n",
        "n_{new} &= 50, & p_{new} &= \\frac{33}{50} \\\\\\\\\n",
        "\\end{align*}\n",
        "$$\n",
        "$$\n",
        "\\begin{align*}\n",
        "n_{old}p_{old} &= 21 &\\geq 10 \\\\\n",
        "n_{old}(1-p_{old}) &= 29 &\\geq 10 \\\\\n",
        "n_{new}p_{new} &= 33 &\\geq 10 \\\\\n",
        "n_{new}(1-p_{new}) &= 17 &\\geq 10 \\\\\\\\\n",
        "\\end{align*}\n",
        "$$\n",
        "\n",
        "Given that the Z-test assumptions hold, we can proceed with the two independent sample proportion Z-test."
      ],
      "metadata": {
        "id": "42XtQgBnIu0q"
      },
      "id": "42XtQgBnIu0q"
    },
    {
      "cell_type": "markdown",
      "metadata": {
        "id": "qBWOaKawIu0r"
      },
      "source": [
        "### Step 3: Decide the significance level\n"
      ],
      "id": "qBWOaKawIu0r"
    },
    {
      "cell_type": "markdown",
      "metadata": {
        "id": "NtBziHN3Iu0r"
      },
      "source": [
        "As stated in the problem overview:\n",
        ">$α = 0.05$"
      ],
      "id": "NtBziHN3Iu0r"
    },
    {
      "cell_type": "markdown",
      "metadata": {
        "id": "fE1D5Nr-Iu0s"
      },
      "source": [
        "### Step 4: Collect and prepare data"
      ],
      "id": "fE1D5Nr-Iu0s"
    },
    {
      "cell_type": "code",
      "source": [
        "# Set the counts of conversions\n",
        "conv_count = np.array([old_page_conv_count, new_page_conv_count])\n",
        "\n",
        "# Set the sample sizes\n",
        "nobs = np.array([old_page_user_count, new_page_user_count])"
      ],
      "metadata": {
        "id": "VAxoZg_lcJvs"
      },
      "id": "VAxoZg_lcJvs",
      "execution_count": null,
      "outputs": []
    },
    {
      "cell_type": "markdown",
      "metadata": {
        "id": "528eRI8sIu0s"
      },
      "source": [
        "### Step 5: Calculate the p-value"
      ],
      "id": "528eRI8sIu0s"
    },
    {
      "cell_type": "code",
      "metadata": {
        "colab": {
          "base_uri": "https://localhost:8080/"
        },
        "outputId": "a97c6530-9c8c-4dfc-867b-456ce6cf6fcd",
        "id": "wkVHpilUIu0s"
      },
      "source": [
        "# Import the required functions\n",
        "from statsmodels.stats.proportion import proportions_ztest\n",
        "\n",
        "# Find the p-value\n",
        "test_stat, p_value = proportions_ztest(conv_count, nobs, alternative='smaller')\n",
        "print('The p-value is', p_value)"
      ],
      "execution_count": null,
      "outputs": [
        {
          "output_type": "stream",
          "name": "stdout",
          "text": [
            "The p-value is 0.008026308204056278\n"
          ]
        }
      ],
      "id": "wkVHpilUIu0s"
    },
    {
      "cell_type": "markdown",
      "metadata": {
        "id": "DgTn9VjqIu0t"
      },
      "source": [
        "### Step 6: Compare the p-value with $\\alpha$"
      ],
      "id": "DgTn9VjqIu0t"
    },
    {
      "cell_type": "code",
      "source": [
        "print_test_conclusion(p_value)"
      ],
      "metadata": {
        "colab": {
          "base_uri": "https://localhost:8080/"
        },
        "outputId": "8a4755a0-886c-4408-e1b4-69a0dd483485",
        "id": "6xVQum5eIu0t"
      },
      "execution_count": null,
      "outputs": [
        {
          "output_type": "stream",
          "name": "stdout",
          "text": [
            "Given a p-value of 0.00803 and an alpha of 0.05, there is sufficient evidence to reject the null hypothesis.\n"
          ]
        }
      ],
      "id": "6xVQum5eIu0t"
    },
    {
      "cell_type": "markdown",
      "metadata": {
        "id": "65pkLoY_Iu0t"
      },
      "source": [
        "### Step 7:  Draw inference"
      ],
      "id": "65pkLoY_Iu0t"
    },
    {
      "cell_type": "markdown",
      "metadata": {
        "id": "YV9Ezc1qIu0u"
      },
      "source": [
        "As the p-value falls below the predetermined level of significance, we can confidently reject the null hypothesis. Consequently, there exists sufficient evidence to support the claim that the conversion rate is higher with the new landing page than the old one."
      ],
      "id": "YV9Ezc1qIu0u"
    },
    {
      "cell_type": "markdown",
      "metadata": {
        "id": "d49bfa2d"
      },
      "source": [
        "##3. Are the conversion status and preferred language independent or related?\n"
      ],
      "id": "d49bfa2d"
    },
    {
      "cell_type": "markdown",
      "metadata": {
        "id": "FuZPumu_eq6z"
      },
      "source": [
        "### Perform Visual Analysis"
      ],
      "id": "FuZPumu_eq6z"
    },
    {
      "cell_type": "code",
      "metadata": {
        "colab": {
          "base_uri": "https://localhost:8080/"
        },
        "outputId": "32449de9-45c7-4da1-f4fd-a75dbd5d62d9",
        "id": "clbRj7YCeq6z"
      },
      "source": [
        "# Plot the contingency table\n",
        "chi_cross = pd.crosstab(user_data['converted'], user_data['language_preferred'],\n",
        "                        normalize=True).plot(kind='bar', stacked=True)\n",
        "\n",
        "# Set title\n",
        "chi_cross.set_title('Conversion by Preferred Language', fontdict=label_fontdict)\n",
        "\n",
        "# Update legend titles\n",
        "chi_cross.get_legend().set_title('Preferred Language')\n",
        "\n",
        "# Set axis labels\n",
        "chi_cross.set_xlabel('Conversion Status', font=label_fontdict)\n",
        "chi_cross.set_ylabel('Percentage of Users', font=label_fontdict);"
      ],
      "execution_count": null,
      "outputs": [
        {
          "output_type": "display_data",
          "data": {
            "text/plain": [
              "<Figure size 640x480 with 1 Axes>"
            ],
            "image/png": "[encoded data removed]"
          },
          "metadata": {}
        }
      ],
      "id": "clbRj7YCeq6z"
    },
    {
      "cell_type": "markdown",
      "source": [
        "Observations:\n",
        "* The number of Spanish and English users is higher in the converted group than the non-converted group.\n",
        "* Based on the sample data, it seems that the proportion of subscribers is higher for Spanish and English, but we must verify this inference with a hypothesis test."
      ],
      "metadata": {
        "id": "12vPkdYLeq60"
      },
      "id": "12vPkdYLeq60"
    },
    {
      "cell_type": "markdown",
      "metadata": {
        "id": "bSc0-EVjeq60"
      },
      "source": [
        "### Step 1: Define the null and alternate hypotheses"
      ],
      "id": "bSc0-EVjeq60"
    },
    {
      "cell_type": "markdown",
      "metadata": {
        "id": "Zk_hAX9-eq60"
      },
      "source": [
        "We will test the null hypothesis:\n",
        "\n",
        ">$H_0$: The converted status and language preference are independent of each other.\n",
        "\n",
        "\n",
        "against the alternate hypothesis:\n",
        "\n",
        ">$H_a$: The converted status and language preference are dependent on each other."
      ],
      "id": "Zk_hAX9-eq60"
    },
    {
      "cell_type": "markdown",
      "metadata": {
        "id": "OlhiVCHkeq61"
      },
      "source": [
        "### Step 2: Select appropriate test"
      ],
      "id": "OlhiVCHkeq61"
    },
    {
      "cell_type": "markdown",
      "metadata": {
        "id": "GtEMy34Ceq61"
      },
      "source": [
        "Given that the data is bivariate and discrete and we are testing  dependence between , the **Chi-square test for independence** is the appropriate test, provided all the assumptions are satisfied."
      ],
      "id": "GtEMy34Ceq61"
    },
    {
      "cell_type": "markdown",
      "source": [
        "#### Test whether the Chi-square test assumptions are satisfied or not"
      ],
      "metadata": {
        "id": "MGeAqYNieq61"
      },
      "id": "MGeAqYNieq61"
    },
    {
      "cell_type": "code",
      "source": [
        "# Prepare a contingency table\n",
        "contingency_table = pd.crosstab(user_data['converted'],\n",
        "                                user_data['language_preferred'])\n",
        "contingency_table"
      ],
      "metadata": {
        "colab": {
          "base_uri": "https://localhost:8080/",
          "height": 143
        },
        "id": "Ks1C7FFwnTDh",
        "outputId": "6caa9c65-660d-4d52-a43e-5e7893cce434"
      },
      "id": "Ks1C7FFwnTDh",
      "execution_count": null,
      "outputs": [
        {
          "output_type": "execute_result",
          "data": {
            "text/plain": [
              "language_preferred  English  French  Spanish\n",
              "converted                                   \n",
              "no                       11      19       16\n",
              "yes                      21      15       18"
            ],
            "text/html": [
              "\n",
              "  <div id=\"df-d706ee5c-14d8-47fa-8ceb-2aae74b3b4fa\" class=\"colab-df-container\">\n",
              "    <div>\n",
              "<style scoped>\n",
              "    .dataframe tbody tr th:only-of-type {\n",
              "        vertical-align: middle;\n",
              "    }\n",
              "\n",
              "    .dataframe tbody tr th {\n",
              "        vertical-align: top;\n",
              "    }\n",
              "\n",
              "    .dataframe thead th {\n",
              "        text-align: right;\n",
              "    }\n",
              "</style>\n",
              "<table border=\"1\" class=\"dataframe\">\n",
              "  <thead>\n",
              "    <tr style=\"text-align: right;\">\n",
              "      <th>language_preferred</th>\n",
              "      <th>English</th>\n",
              "      <th>French</th>\n",
              "      <th>Spanish</th>\n",
              "    </tr>\n",
              "    <tr>\n",
              "      <th>converted</th>\n",
              "      <th></th>\n",
              "      <th></th>\n",
              "      <th></th>\n",
              "    </tr>\n",
              "  </thead>\n",
              "  <tbody>\n",
              "    <tr>\n",
              "      <th>no</th>\n",
              "      <td>11</td>\n",
              "      <td>19</td>\n",
              "      <td>16</td>\n",
              "    </tr>\n",
              "    <tr>\n",
              "      <th>yes</th>\n",
              "      <td>21</td>\n",
              "      <td>15</td>\n",
              "      <td>18</td>\n",
              "    </tr>\n",
              "  </tbody>\n",
              "</table>\n",
              "</div>\n",
              "    <div class=\"colab-df-buttons\">\n",
              "\n",
              "  <div class=\"colab-df-container\">\n",
              "    <button class=\"colab-df-convert\" onclick=\"convertToInteractive('df-d706ee5c-14d8-47fa-8ceb-2aae74b3b4fa')\"\n",
              "            title=\"Convert this dataframe to an interactive table.\"\n",
              "            style=\"display:none;\">\n",
              "\n",
              "  <svg xmlns=\"http://www.w3.org/2000/svg\" height=\"24px\" viewBox=\"0 -960 960 960\">\n",
              "    <path d=\"M120-120v-720h720v720H120Zm60-500h600v-160H180v160Zm220 220h160v-160H400v160Zm0 220h160v-160H400v160ZM180-400h160v-160H180v160Zm440 0h160v-160H620v160ZM180-180h160v-160H180v160Zm440 0h160v-160H620v160Z\"/>\n",
              "  </svg>\n",
              "    </button>\n",
              "\n",
              "  <style>\n",
              "    .colab-df-container {\n",
              "      display:flex;\n",
              "      gap: 12px;\n",
              "    }\n",
              "\n",
              "    .colab-df-convert {\n",
              "      background-color: #E8F0FE;\n",
              "      border: none;\n",
              "      border-radius: 50%;\n",
              "      cursor: pointer;\n",
              "      display: none;\n",
              "      fill: #1967D2;\n",
              "      height: 32px;\n",
              "      padding: 0 0 0 0;\n",
              "      width: 32px;\n",
              "    }\n",
              "\n",
              "    .colab-df-convert:hover {\n",
              "      background-color: #E2EBFA;\n",
              "      box-shadow: 0px 1px 2px rgba(60, 64, 67, 0.3), 0px 1px 3px 1px rgba(60, 64, 67, 0.15);\n",
              "      fill: #174EA6;\n",
              "    }\n",
              "\n",
              "    .colab-df-buttons div {\n",
              "      margin-bottom: 4px;\n",
              "    }\n",
              "\n",
              "    [theme=dark] .colab-df-convert {\n",
              "      background-color: #3B4455;\n",
              "      fill: #D2E3FC;\n",
              "    }\n",
              "\n",
              "    [theme=dark] .colab-df-convert:hover {\n",
              "      background-color: #434B5C;\n",
              "      box-shadow: 0px 1px 3px 1px rgba(0, 0, 0, 0.15);\n",
              "      filter: drop-shadow(0px 1px 2px rgba(0, 0, 0, 0.3));\n",
              "      fill: #FFFFFF;\n",
              "    }\n",
              "  </style>\n",
              "\n",
              "    <script>\n",
              "      const buttonEl =\n",
              "        document.querySelector('#df-d706ee5c-14d8-47fa-8ceb-2aae74b3b4fa button.colab-df-convert');\n",
              "      buttonEl.style.display =\n",
              "        google.colab.kernel.accessAllowed ? 'block' : 'none';\n",
              "\n",
              "      async function convertToInteractive(key) {\n",
              "        const element = document.querySelector('#df-d706ee5c-14d8-47fa-8ceb-2aae74b3b4fa');\n",
              "        const dataTable =\n",
              "          await google.colab.kernel.invokeFunction('convertToInteractive',\n",
              "                                                    [key], {});\n",
              "        if (!dataTable) return;\n",
              "\n",
              "        const docLinkHtml = 'Like what you see? Visit the ' +\n",
              "          '<a target=\"_blank\" href=https://colab.research.google.com/notebooks/data_table.ipynb>data table notebook</a>'\n",
              "          + ' to learn more about interactive tables.';\n",
              "        element.innerHTML = '';\n",
              "        dataTable['output_type'] = 'display_data';\n",
              "        await google.colab.output.renderOutput(dataTable, element);\n",
              "        const docLink = document.createElement('div');\n",
              "        docLink.innerHTML = docLinkHtml;\n",
              "        element.appendChild(docLink);\n",
              "      }\n",
              "    </script>\n",
              "  </div>\n",
              "\n",
              "\n",
              "<div id=\"df-0ee60d1a-2431-4cb5-a279-3be2919d5e3d\">\n",
              "  <button class=\"colab-df-quickchart\" onclick=\"quickchart('df-0ee60d1a-2431-4cb5-a279-3be2919d5e3d')\"\n",
              "            title=\"Suggest charts.\"\n",
              "            style=\"display:none;\">\n",
              "\n",
              "<svg xmlns=\"http://www.w3.org/2000/svg\" height=\"24px\"viewBox=\"0 0 24 24\"\n",
              "     width=\"24px\">\n",
              "    <g>\n",
              "        <path d=\"M19 3H5c-1.1 0-2 .9-2 2v14c0 1.1.9 2 2 2h14c1.1 0 2-.9 2-2V5c0-1.1-.9-2-2-2zM9 17H7v-7h2v7zm4 0h-2V7h2v10zm4 0h-2v-4h2v4z\"/>\n",
              "    </g>\n",
              "</svg>\n",
              "  </button>\n",
              "\n",
              "<style>\n",
              "  .colab-df-quickchart {\n",
              "      --bg-color: #E8F0FE;\n",
              "      --fill-color: #1967D2;\n",
              "      --hover-bg-color: #E2EBFA;\n",
              "      --hover-fill-color: #174EA6;\n",
              "      --disabled-fill-color: #AAA;\n",
              "      --disabled-bg-color: #DDD;\n",
              "  }\n",
              "\n",
              "  [theme=dark] .colab-df-quickchart {\n",
              "      --bg-color: #3B4455;\n",
              "      --fill-color: #D2E3FC;\n",
              "      --hover-bg-color: #434B5C;\n",
              "      --hover-fill-color: #FFFFFF;\n",
              "      --disabled-bg-color: #3B4455;\n",
              "      --disabled-fill-color: #666;\n",
              "  }\n",
              "\n",
              "  .colab-df-quickchart {\n",
              "    background-color: var(--bg-color);\n",
              "    border: none;\n",
              "    border-radius: 50%;\n",
              "    cursor: pointer;\n",
              "    display: none;\n",
              "    fill: var(--fill-color);\n",
              "    height: 32px;\n",
              "    padding: 0;\n",
              "    width: 32px;\n",
              "  }\n",
              "\n",
              "  .colab-df-quickchart:hover {\n",
              "    background-color: var(--hover-bg-color);\n",
              "    box-shadow: 0 1px 2px rgba(60, 64, 67, 0.3), 0 1px 3px 1px rgba(60, 64, 67, 0.15);\n",
              "    fill: var(--button-hover-fill-color);\n",
              "  }\n",
              "\n",
              "  .colab-df-quickchart-complete:disabled,\n",
              "  .colab-df-quickchart-complete:disabled:hover {\n",
              "    background-color: var(--disabled-bg-color);\n",
              "    fill: var(--disabled-fill-color);\n",
              "    box-shadow: none;\n",
              "  }\n",
              "\n",
              "  .colab-df-spinner {\n",
              "    border: 2px solid var(--fill-color);\n",
              "    border-color: transparent;\n",
              "    border-bottom-color: var(--fill-color);\n",
              "    animation:\n",
              "      spin 1s steps(1) infinite;\n",
              "  }\n",
              "\n",
              "  @keyframes spin {\n",
              "    0% {\n",
              "      border-color: transparent;\n",
              "      border-bottom-color: var(--fill-color);\n",
              "      border-left-color: var(--fill-color);\n",
              "    }\n",
              "    20% {\n",
              "      border-color: transparent;\n",
              "      border-left-color: var(--fill-color);\n",
              "      border-top-color: var(--fill-color);\n",
              "    }\n",
              "    30% {\n",
              "      border-color: transparent;\n",
              "      border-left-color: var(--fill-color);\n",
              "      border-top-color: var(--fill-color);\n",
              "      border-right-color: var(--fill-color);\n",
              "    }\n",
              "    40% {\n",
              "      border-color: transparent;\n",
              "      border-right-color: var(--fill-color);\n",
              "      border-top-color: var(--fill-color);\n",
              "    }\n",
              "    60% {\n",
              "      border-color: transparent;\n",
              "      border-right-color: var(--fill-color);\n",
              "    }\n",
              "    80% {\n",
              "      border-color: transparent;\n",
              "      border-right-color: var(--fill-color);\n",
              "      border-bottom-color: var(--fill-color);\n",
              "    }\n",
              "    90% {\n",
              "      border-color: transparent;\n",
              "      border-bottom-color: var(--fill-color);\n",
              "    }\n",
              "  }\n",
              "</style>\n",
              "\n",
              "  <script>\n",
              "    async function quickchart(key) {\n",
              "      const quickchartButtonEl =\n",
              "        document.querySelector('#' + key + ' button');\n",
              "      quickchartButtonEl.disabled = true;  // To prevent multiple clicks.\n",
              "      quickchartButtonEl.classList.add('colab-df-spinner');\n",
              "      try {\n",
              "        const charts = await google.colab.kernel.invokeFunction(\n",
              "            'suggestCharts', [key], {});\n",
              "      } catch (error) {\n",
              "        console.error('Error during call to suggestCharts:', error);\n",
              "      }\n",
              "      quickchartButtonEl.classList.remove('colab-df-spinner');\n",
              "      quickchartButtonEl.classList.add('colab-df-quickchart-complete');\n",
              "    }\n",
              "    (() => {\n",
              "      let quickchartButtonEl =\n",
              "        document.querySelector('#df-0ee60d1a-2431-4cb5-a279-3be2919d5e3d button');\n",
              "      quickchartButtonEl.style.display =\n",
              "        google.colab.kernel.accessAllowed ? 'block' : 'none';\n",
              "    })();\n",
              "  </script>\n",
              "</div>\n",
              "    </div>\n",
              "  </div>\n"
            ]
          },
          "metadata": {},
          "execution_count": 32
        }
      ]
    },
    {
      "cell_type": "markdown",
      "source": [
        "* **Categorical variables**: Yes, conversion status and language preference are categorical in nature.\n",
        "* **Random sampling from the population**: Yes, we are informed that the samples taken are simple random samples.\n",
        "* **Expected value of the number of sample observations in each level of the variable is at least 5**: Yes, it can be observed in the contingency table that all entries are greater than 5.\n",
        "\n",
        "Given that the Chi square-test assumptions hold, we can proceed with the Chi-square test for independence."
      ],
      "metadata": {
        "id": "b9L0LO6Req61"
      },
      "id": "b9L0LO6Req61"
    },
    {
      "cell_type": "markdown",
      "metadata": {
        "id": "UOxHvL60eq62"
      },
      "source": [
        "### Step 3: Decide the significance level\n"
      ],
      "id": "UOxHvL60eq62"
    },
    {
      "cell_type": "markdown",
      "metadata": {
        "id": "U94XR8Tseq62"
      },
      "source": [
        "As stated in the problem overview:\n",
        ">$α = 0.05$"
      ],
      "id": "U94XR8Tseq62"
    },
    {
      "cell_type": "markdown",
      "metadata": {
        "id": "0YSG-TxDeq62"
      },
      "source": [
        "### Step 4: Collect and prepare data"
      ],
      "id": "0YSG-TxDeq62"
    },
    {
      "cell_type": "markdown",
      "source": [
        "We will use the previously created contingency table. No other data preparation is necessary."
      ],
      "metadata": {
        "id": "tLvPd9wt529I"
      },
      "id": "tLvPd9wt529I"
    },
    {
      "cell_type": "markdown",
      "metadata": {
        "id": "emYhW3OLeq62"
      },
      "source": [
        "### Step 5: Calculate the p-value"
      ],
      "id": "emYhW3OLeq62"
    },
    {
      "cell_type": "code",
      "metadata": {
        "colab": {
          "base_uri": "https://localhost:8080/"
        },
        "outputId": "58fd14ff-c464-4a38-8555-ac062172e654",
        "id": "OMg20fD1eq63"
      },
      "source": [
        "# Import the required functions\n",
        "from scipy.stats import chi2_contingency\n",
        "\n",
        "# Find the p-value\n",
        "chi, p_value, dof, expected = chi2_contingency(contingency_table)\n",
        "print('The p-value is', p_value)\n",
        "print(\"Degrees of freedom =\", dof)"
      ],
      "execution_count": null,
      "outputs": [
        {
          "output_type": "stream",
          "name": "stdout",
          "text": [
            "The p-value is 0.21298887487543447\n",
            "Degrees of freedom = 2\n"
          ]
        }
      ],
      "id": "OMg20fD1eq63"
    },
    {
      "cell_type": "code",
      "source": [
        "print(\"Expected frequencies \\n\", expected)"
      ],
      "metadata": {
        "colab": {
          "base_uri": "https://localhost:8080/"
        },
        "id": "1m0elGfW6KHc",
        "outputId": "233df34b-5175-4018-f5c0-ddf593660877"
      },
      "id": "1m0elGfW6KHc",
      "execution_count": null,
      "outputs": [
        {
          "output_type": "stream",
          "name": "stdout",
          "text": [
            "Expected frequencies \n",
            " [[14.72 15.64 15.64]\n",
            " [17.28 18.36 18.36]]\n"
          ]
        }
      ]
    },
    {
      "cell_type": "markdown",
      "metadata": {
        "id": "D1ZzRfkTeq63"
      },
      "source": [
        "### Step 6: Compare the p-value with $\\alpha$"
      ],
      "id": "D1ZzRfkTeq63"
    },
    {
      "cell_type": "code",
      "source": [
        "print_test_conclusion(p_value)"
      ],
      "metadata": {
        "colab": {
          "base_uri": "https://localhost:8080/"
        },
        "outputId": "027721cc-921f-476c-ea81-e3c97679c01e",
        "id": "eAYjtsr-eq63"
      },
      "execution_count": null,
      "outputs": [
        {
          "output_type": "stream",
          "name": "stdout",
          "text": [
            "Given a p-value of 0.21299 and an alpha of 0.05, there is not enough evidence to reject the null hypothesis.\n"
          ]
        }
      ],
      "id": "eAYjtsr-eq63"
    },
    {
      "cell_type": "markdown",
      "metadata": {
        "id": "4X5ChkK6eq63"
      },
      "source": [
        "### Step 7:  Draw inference"
      ],
      "id": "4X5ChkK6eq63"
    },
    {
      "cell_type": "markdown",
      "metadata": {
        "id": "5fhEGv5eeq63"
      },
      "source": [
        "As the p-value is larger than the predetermined level of significance, we fail to reject the null hypothesis. Consequently, we do not have sufficient evidence to claim that conversion status and language preference are dependent on each other."
      ],
      "id": "5fhEGv5eeq63"
    },
    {
      "cell_type": "markdown",
      "metadata": {
        "id": "8d585a90"
      },
      "source": [
        "## 4. Is the time spent on the new page the same for the different language users?"
      ],
      "id": "8d585a90"
    },
    {
      "cell_type": "markdown",
      "metadata": {
        "id": "ck4swBD8ewL8"
      },
      "source": [
        "### Perform Visual Analysis"
      ],
      "id": "ck4swBD8ewL8"
    },
    {
      "cell_type": "code",
      "metadata": {
        "colab": {
          "base_uri": "https://localhost:8080/",
          "height": 476
        },
        "outputId": "82e62c29-a53d-4d07-aedf-5bcb62fee977",
        "id": "AXOpe14AewL9"
      },
      "source": [
        "# Plot a boxplot for time vs. language preferred on the new page\n",
        "lang_box = sns.boxplot(data=new_page_data, x='time_spent_on_the_page',\n",
        "                       y='language_preferred', showmeans=True,\n",
        "                       meanprops=meanprops_dict, palette='mako')\n",
        "\n",
        "# Set title\n",
        "lang_box.set_title('Time Spent on New Page by Preferred Language',\n",
        "                   fontdict=label_fontdict)\n",
        "\n",
        "# Set axis labels\n",
        "lang_box.set_ylabel('Language Preferred', fontdict=label_fontdict)\n",
        "lang_box.set_xlabel('Time Spent on New Page (min)', fontdict=label_fontdict);"
      ],
      "execution_count": null,
      "outputs": [
        {
          "output_type": "display_data",
          "data": {
            "text/plain": [
              "<Figure size 640x480 with 1 Axes>"
            ],
            "image/png": "[encoded data removed]"
          },
          "metadata": {}
        }
      ],
      "id": "AXOpe14AewL9"
    },
    {
      "cell_type": "markdown",
      "source": [
        "Observations:\n",
        "* The median and mean time spent on the new page is highest for English.\n",
        "* Spanish has the lowest mean time spent, but French has the lowest median time. This is likely due to the left-side outlier that Spanish has and right-side outlier that French has.\n",
        "* English and French appear to have similar 25% and 75% percentiles.\n",
        "* The variance is largest for English and least for Spanish.\n",
        "* The French distribution is right-skewed, while the Spanish and English distributions appear to be left-skewed."
      ],
      "metadata": {
        "id": "aIx8_7SAewL9"
      },
      "id": "aIx8_7SAewL9"
    },
    {
      "cell_type": "markdown",
      "metadata": {
        "id": "j2xKLumtewL9"
      },
      "source": [
        "### Step 1: Define the null and alternate hypotheses"
      ],
      "id": "j2xKLumtewL9"
    },
    {
      "cell_type": "markdown",
      "metadata": {
        "id": "f6xXzTG6ewL-"
      },
      "source": [
        "Let $\\mu_F$, $\\mu_S$, $\\mu_E$ be the mean time that E-News Express users, in the respective language groups of French, Spanish, and English, spent on the new landing page.\n",
        "\n",
        "We will test the null hypothesis, which states that the mean time  spent on the new landing page is the same regardless of language preference:\n",
        "\n",
        ">$H_0:\\mu_F = \\mu_S = \\mu_E$\n",
        "\n",
        "against the alternate hypothesis, which states that at least one of the mean times with respect to the three language category is different from the rest:\n",
        "\n",
        ">$H_a: \\exists i \\neq j,\\text{ such that }\\mu_i \\neq \\mu_j $"
      ],
      "id": "f6xXzTG6ewL-"
    },
    {
      "cell_type": "markdown",
      "metadata": {
        "id": "JrQDdeJOewL-"
      },
      "source": [
        "### Step 2: Select appropriate test"
      ],
      "id": "JrQDdeJOewL-"
    },
    {
      "cell_type": "markdown",
      "metadata": {
        "id": "HhTgE2VwewL-"
      },
      "source": [
        "Given that this problem concerns three population means, the **one-way ANOVA test** is the appropriate test, provided all the assumptions are satisfied."
      ],
      "id": "HhTgE2VwewL-"
    },
    {
      "cell_type": "markdown",
      "source": [
        "#### Test whether the ANOVA test assumptions are satisfied or not"
      ],
      "metadata": {
        "id": "xQ_r04XfewL-"
      },
      "id": "xQ_r04XfewL-"
    },
    {
      "cell_type": "markdown",
      "source": [
        "##### Verify normality with Shapiro-Wilk's test"
      ],
      "metadata": {
        "id": "JzkvtYuW-EFp"
      },
      "id": "JzkvtYuW-EFp"
    },
    {
      "cell_type": "markdown",
      "source": [
        "We will test the null hypothesis:\n",
        "\n",
        ">$H_0:$ Time spent on the page follows a normal distribution\n",
        "\n",
        "against the alternate hypothesis:\n",
        "\n",
        ">$H_a:$ Time spent on the page does not follow a normal distribution\n",
        "\n",
        "Moreover, as stated in the problem overview:\n",
        ">$α = 0.05$"
      ],
      "metadata": {
        "id": "dPMyoq_y-oJC"
      },
      "id": "dPMyoq_y-oJC"
    },
    {
      "cell_type": "code",
      "source": [
        "# Assumption 1: Normality\n",
        "# Import the required function\n",
        "from scipy import stats\n",
        "\n",
        "# Find the p-value\n",
        "w, p_value = stats.shapiro(new_page_data['time_spent_on_the_page'])\n",
        "print_test_conclusion(p_value)"
      ],
      "metadata": {
        "colab": {
          "base_uri": "https://localhost:8080/"
        },
        "id": "z58J4tKI-ETx",
        "outputId": "57ef5fcc-deaf-4f3a-d801-e6867be6319d"
      },
      "id": "z58J4tKI-ETx",
      "execution_count": null,
      "outputs": [
        {
          "output_type": "stream",
          "name": "stdout",
          "text": [
            "Given a p-value of 0.80400 and an alpha of 0.05, there is not enough evidence to reject the null hypothesis.\n"
          ]
        }
      ]
    },
    {
      "cell_type": "markdown",
      "source": [
        "As the p-value is larger than the predetermined level of significance, we fail to reject the null hypothesis. Consequently, the normality assumption holds."
      ],
      "metadata": {
        "id": "HO1ScWBPaTOg"
      },
      "id": "HO1ScWBPaTOg"
    },
    {
      "cell_type": "markdown",
      "source": [
        "##### Verify homogeneity of variance with Levene's test"
      ],
      "metadata": {
        "id": "dhyL7VlQafP2"
      },
      "id": "dhyL7VlQafP2"
    },
    {
      "cell_type": "markdown",
      "source": [
        "We will test the null hypothesis:\n",
        "\n",
        ">$H_0:$ All the population variances are equal\n",
        "\n",
        "against the alternate hypothesis:\n",
        "\n",
        ">$H_a:$ At least one population variance is different from the rest\n",
        "\n",
        "Moreover, as stated in the problem overview:\n",
        ">$α = 0.05$"
      ],
      "metadata": {
        "id": "5o_yCdJkafQC"
      },
      "id": "5o_yCdJkafQC"
    },
    {
      "cell_type": "code",
      "source": [
        "# Assumption 2: Homogeneity of Variance\n",
        "# Import the required function\n",
        "from scipy.stats import levene\n",
        "\n",
        "# Distill time spent on new page for each language\n",
        "time_french = new_page_data[new_page_data['language_preferred'] == \"French\"]['time_spent_on_the_page']\n",
        "time_english = new_page_data[new_page_data['language_preferred'] == \"English\"]['time_spent_on_the_page']\n",
        "time_spanish = new_page_data[new_page_data['language_preferred'] == \"Spanish\"]['time_spent_on_the_page']\n",
        "\n",
        "# Find the p-value\n",
        "test_stat, p_value = levene(time_french, time_english,\n",
        "                            time_spanish)\n",
        "print_test_conclusion(p_value)"
      ],
      "metadata": {
        "colab": {
          "base_uri": "https://localhost:8080/"
        },
        "outputId": "8358bd30-9bed-4541-de19-b27cc2df0c8f",
        "id": "C57fVHDJafQC"
      },
      "execution_count": null,
      "outputs": [
        {
          "output_type": "stream",
          "name": "stdout",
          "text": [
            "Given a p-value of 0.46711 and an alpha of 0.05, there is not enough evidence to reject the null hypothesis.\n"
          ]
        }
      ],
      "id": "C57fVHDJafQC"
    },
    {
      "cell_type": "markdown",
      "source": [
        "As the p-value is larger than the predetermined level of significance, we fail to reject the null hypothesis. Consequently, the homogeneity of variance assumption holds."
      ],
      "metadata": {
        "id": "147GYDbIafQD"
      },
      "id": "147GYDbIafQD"
    },
    {
      "cell_type": "markdown",
      "source": [
        "* **Independent populations**: Yes, given that the samples are selected from three distinct groups, it is clear that these samples originate from three independent populations.\n",
        "* **Random sampling from the population**: Yes, we are informed that the samples taken are simple random samples.\n",
        "* **Normally distributed populations**: Yes, the normality assumption was verified using the Shapiro-Wilk’s test.\n",
        "* **Population variances are equal**: Yes, the homogeniety of variance assumption was verified using the Levene's test.\n",
        "\n",
        "Given that the ANOVA test assumptions hold, we can proceed with the one-way ANOVA test."
      ],
      "metadata": {
        "id": "sZwa2vXlafQE"
      },
      "id": "sZwa2vXlafQE"
    },
    {
      "cell_type": "markdown",
      "metadata": {
        "id": "QSQ4YlrKewL_"
      },
      "source": [
        "### Step 3: Decide the significance level\n"
      ],
      "id": "QSQ4YlrKewL_"
    },
    {
      "cell_type": "markdown",
      "metadata": {
        "id": "qltIzGuJewL_"
      },
      "source": [
        "As stated in the problem overview:\n",
        ">$α = 0.05$"
      ],
      "id": "qltIzGuJewL_"
    },
    {
      "cell_type": "markdown",
      "metadata": {
        "id": "6oFml12HewL_"
      },
      "source": [
        "### Step 4: Collect and prepare data"
      ],
      "id": "6oFml12HewL_"
    },
    {
      "cell_type": "markdown",
      "source": [
        "We will use the previously created data structures. No other data preparation is necessary."
      ],
      "metadata": {
        "id": "KuJfrhjw5cxf"
      },
      "id": "KuJfrhjw5cxf"
    },
    {
      "cell_type": "markdown",
      "metadata": {
        "id": "tjJFJNYyewL_"
      },
      "source": [
        "### Step 5: Calculate the p-value"
      ],
      "id": "tjJFJNYyewL_"
    },
    {
      "cell_type": "code",
      "metadata": {
        "colab": {
          "base_uri": "https://localhost:8080/"
        },
        "outputId": "1fd55500-49cf-4977-f36b-cac72255b33d",
        "id": "2zVwEypRewL_"
      },
      "source": [
        "# Import the required function\n",
        "from scipy.stats import f_oneway\n",
        "\n",
        "# Perform one-way ANOVA test\n",
        "test_stat, p_value = f_oneway(time_french, time_english, time_spanish)\n",
        "print('The p-value is ' + str(p_value))"
      ],
      "execution_count": null,
      "outputs": [
        {
          "output_type": "stream",
          "name": "stdout",
          "text": [
            "The p-value is 0.43204138694325955\n"
          ]
        }
      ],
      "id": "2zVwEypRewL_"
    },
    {
      "cell_type": "markdown",
      "metadata": {
        "id": "IojHOXm0ewMA"
      },
      "source": [
        "### Step 6: Compare the p-value with $\\alpha$"
      ],
      "id": "IojHOXm0ewMA"
    },
    {
      "cell_type": "code",
      "source": [
        "print_test_conclusion(p_value)"
      ],
      "metadata": {
        "colab": {
          "base_uri": "https://localhost:8080/"
        },
        "outputId": "745e59f5-a2be-41cf-f0af-eda1146cdf32",
        "id": "cu7ec6RDewMA"
      },
      "execution_count": null,
      "outputs": [
        {
          "output_type": "stream",
          "name": "stdout",
          "text": [
            "Given a p-value of 0.43204 and an alpha of 0.05, there is not enough evidence to reject the null hypothesis.\n"
          ]
        }
      ],
      "id": "cu7ec6RDewMA"
    },
    {
      "cell_type": "markdown",
      "metadata": {
        "id": "nlPSGe_MewMA"
      },
      "source": [
        "### Step 7:  Draw inference"
      ],
      "id": "nlPSGe_MewMA"
    },
    {
      "cell_type": "markdown",
      "metadata": {
        "id": "QzQ54IBfewMA"
      },
      "source": [
        "As the p-value is larger than the predetermined level of significance, we fail to reject the null hypothesis. Consequently, we do not have sufficient evidence to claim that at least one of the mean times in the three language categories is different from the others."
      ],
      "id": "QzQ54IBfewMA"
    },
    {
      "cell_type": "markdown",
      "metadata": {
        "id": "3acbc947"
      },
      "source": [
        "## Conclusion and Business Recommendations"
      ],
      "id": "3acbc947"
    },
    {
      "cell_type": "markdown",
      "metadata": {
        "id": "21fb1063"
      },
      "source": [
        "### Conclusions\n",
        "* **Landing Page Engagement**: Utilizing a two independent sample T-test for equality of means, we found compelling evidence (p = 0.00014) to assert that the mean duration users engage with the new landing page significantly exceeds that of the existing page.\n",
        "* **Conversion Rates**: Through the two independent proportion Z-test, our results (p = 0.00802) indicate that the conversion rate of the new landing page surpasses its predecessor.\n",
        "* **Conversion Status vs. Language Preference**: A Chi-square test for independence showed no significant relationship (p = 0.21299) between users' language preference and likelihood to convert.\n",
        "* **User Engagement by Language**: Performing a one-way ANOVA test, we discerned (p = 0.4671) that there isn't substantial evidence to suggest that language preference impacts the average time spent on the new landing page.\n",
        "\n",
        "### Business Recommendations\n",
        "1. **Roll Out New Landing Page**: The increase in user engagement and conversion on the new landing page compared to the old one suggests that the updates resonate with users. Thus, it is recommended that E-News Express adopt the new landing page.\n",
        "2. **Focus Resources on High-Converting Features**: Given that the new landing page improved conversion rates, E-News Express should identify the features and content on the new page that are most closely correlated with conversion. This analysis should also examine click-through rates and user drop-off points.\n",
        "3. **Explore Engagement and Conversion Correlation**: Preliminary observations from our sample suggest a positive correlation between users' time spent on the landing page and their conversion rate. It is recommended that E-News Express conduct further statistical tests to validate this observation and, if true, explore strategies such as refining the layout and content to further boost user engagement.\n",
        "4. **Do Not Prioritize Language-Specific Conversion Strategies**: This analysis suggests that language-specific content may not be necessary for conversion, and thus efforts to target users based solely on language may not yield significant results. This, however, does not mean that E-News Express should not mantain content in multiple languages.\n",
        "5. **Seek User Feedback for Further Analysis**: E-News Express should collect feedback from users, through online surveys, focus groups, or interviews, to gain deeper insights into user likes and dislikes on the landing page.\n",
        "6. **Continue A/B Testing for Ongoing Improvement**: While the new landing page outperforms its predecessor, E-News Express should conduct A/B tests on various page elements, such as content placement, headlines and call-to-action buttons, and persistently monitor user behavior metrics to maintain a steady growth in conversion rate."
      ],
      "id": "21fb1063"
    },
    {
      "cell_type": "markdown",
      "source": [
        "___"
      ],
      "metadata": {
        "id": "U0dAd4i0iCHo"
      },
      "id": "U0dAd4i0iCHo"
    }
  ]
}